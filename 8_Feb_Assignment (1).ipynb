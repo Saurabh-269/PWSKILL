{
 "cells": [
  {
   "cell_type": "markdown",
   "id": "fb7b4a67-af12-4b82-a22a-037ac9c88b61",
   "metadata": {},
   "source": [
    "Q1. Abstraction in Object-Oriented Programming (OOPs) refers to the process of hiding complex implementation details from the user and only presenting the necessary information or interface that the user needs to interact with. In simpler terms, it means to focus on the essential features of an object rather than its implementation details\n",
    "For example, consider a car. From a user's perspective, they only need to know how to drive the car, how to change gears, and how to use the brake and accelerator pedals. They do not need to know the complex details of the car's engine, transmission, or suspension system. This is an example of abstraction, where the user is presented with only the necessary information or interface to interact with the car, and the implementation details are hidden from them."
   ]
  },
  {
   "cell_type": "markdown",
   "id": "e8768c91-5462-41ab-aa1e-104d79d7fae6",
   "metadata": {},
   "source": [
    "Q2. Abstraction and Encapsulation are two fundamental concepts of OOPs that are often confused with each other. The key difference between the two is that Abstraction focuses on hiding the complexity of an object's implementation details from the user, whereas Encapsulation focuses on hiding the internal details of an object from the outside world to ensure data security.\n",
    "\n",
    "An example of abstraction is the car example we discussed earlier. The user interacts with the car through its interface (steering wheel, pedals, and gear shifter) without knowing the details of the engine, transmission, or other parts.\n",
    "\n",
    "An example of encapsulation can be seen in a bank account object. The account object's internal details (such as the account holder's name, account number, and balance) are hidden from the outside world, and the object only allows authorized access to these details through a set of defined methods (such as deposit, withdraw, and check balance)."
   ]
  },
  {
   "cell_type": "markdown",
   "id": "d5f252b3-8dcc-43a6-b767-a1fd12dc4f69",
   "metadata": {},
   "source": [
    "Q3. The abc module in Python stands for Abstract Base Class. It is a built-in module in Python that provides the infrastructure for defining abstract base classes. An abstract base class is a class that is meant to be subclassed and cannot be instantiated on its own.\n",
    "\n",
    "The abc module provides the ABC class that can be used as a base class for creating abstract classes. Abstract classes can define abstract methods, which are methods that have only a signature and no implementation. Subclasses of the abstract base class must implement these abstract methods.\n",
    "\n",
    "The abc module is used in Python to enforce the concept of abstraction and ensure that certain methods or attributes are present in the subclass. It helps to create a consistent interface across different implementations of the same class."
   ]
  },
  {
   "cell_type": "markdown",
   "id": "c1322502-020d-40c6-92bb-e962e767d8b3",
   "metadata": {},
   "source": [
    "Q4. Data Abstraction can be achieved in OOPs by creating abstract classes or interfaces. An abstract class is a class that cannot be instantiated on its own and contains one or more abstract methods, which have no implementation. These abstract methods must be implemented by any concrete subclass that inherits from the abstract class.\n",
    "\n",
    "Similarly, an interface is a collection of abstract methods that define the behavior of a class. A class that implements an interface must implement all of its methods.\n",
    "\n",
    "By defining abstract classes or interfaces, the implementation details of the class are hidden from the user, and only the necessary interface or methods are presented to the user."
   ]
  },
  {
   "cell_type": "markdown",
   "id": "5ad03740-23a8-4de3-ab1c-e7984c17acd4",
   "metadata": {},
   "source": [
    "Q5. No, we cannot create an instance of an abstract class in Python. An abstract class is a class that cannot be instantiated on its own and can only be used as a base class for creating concrete subclasses that implement its abstract methods.\n",
    "\n",
    "Attempting to create an instance of an abstract class will result in a TypeError. For example, if we try to create an instance of an abstract class Animal that has an abstract method speak, we will get the following error:"
   ]
  },
  {
   "cell_type": "code",
   "execution_count": 1,
   "id": "7ab09cbe-eee5-4056-b464-4c72675a4780",
   "metadata": {},
   "outputs": [
    {
     "ename": "TypeError",
     "evalue": "Can't instantiate abstract class Animal with abstract method speak",
     "output_type": "error",
     "traceback": [
      "\u001b[0;31m---------------------------------------------------------------------------\u001b[0m",
      "\u001b[0;31mTypeError\u001b[0m                                 Traceback (most recent call last)",
      "Cell \u001b[0;32mIn[1], line 8\u001b[0m\n\u001b[1;32m      4\u001b[0m     \u001b[38;5;129m@abstractmethod\u001b[39m\n\u001b[1;32m      5\u001b[0m     \u001b[38;5;28;01mdef\u001b[39;00m \u001b[38;5;21mspeak\u001b[39m(\u001b[38;5;28mself\u001b[39m):\n\u001b[1;32m      6\u001b[0m         \u001b[38;5;28;01mpass\u001b[39;00m\n\u001b[0;32m----> 8\u001b[0m a \u001b[38;5;241m=\u001b[39m \u001b[43mAnimal\u001b[49m\u001b[43m(\u001b[49m\u001b[43m)\u001b[49m \u001b[38;5;66;03m# TypeError: Can't instantiate abstract class Animal with abstract methods speak\u001b[39;00m\n",
      "\u001b[0;31mTypeError\u001b[0m: Can't instantiate abstract class Animal with abstract method speak"
     ]
    }
   ],
   "source": [
    "from abc import ABC, abstractmethod\n",
    "\n",
    "class Animal(ABC):\n",
    "    @abstractmethod\n",
    "    def speak(self):\n",
    "        pass\n",
    "\n",
    "a = Animal() # TypeError: Can't instantiate abstract class Animal with abstract methods speak\n"
   ]
  },
  {
   "cell_type": "code",
   "execution_count": null,
   "id": "803932d1-a2b9-445c-9da4-6ffa0db5ad14",
   "metadata": {},
   "outputs": [],
   "source": []
  }
 ],
 "metadata": {
  "kernelspec": {
   "display_name": "Python 3 (ipykernel)",
   "language": "python",
   "name": "python3"
  },
  "language_info": {
   "codemirror_mode": {
    "name": "ipython",
    "version": 3
   },
   "file_extension": ".py",
   "mimetype": "text/x-python",
   "name": "python",
   "nbconvert_exporter": "python",
   "pygments_lexer": "ipython3",
   "version": "3.10.8"
  }
 },
 "nbformat": 4,
 "nbformat_minor": 5
}
