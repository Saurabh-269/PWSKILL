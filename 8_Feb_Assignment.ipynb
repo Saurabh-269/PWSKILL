{
 "cells": [
  {
   "cell_type": "markdown",
   "id": "fb7b4a67-af12-4b82-a22a-037ac9c88b61",
   "metadata": {},
   "source": [
    "Q1. Abstraction in Object-Oriented Programming (OOPs) refers to the process of hiding complex implementation details from the user and only presenting the necessary information or interface that the user needs to interact with. In simpler terms, it means to focus on the essential features of an object rather than its implementation details\n",
    "For example, consider a car. From a user's perspective, they only need to know how to drive the car, how to change gears, and how to use the brake and accelerator pedals. They do not need to know the complex details of the car's engine, transmission, or suspension system. This is an example of abstraction, where the user is presented with only the necessary information or interface to interact with the car, and the implementation details are hidden from them."
   ]
  },
  {
   "cell_type": "markdown",
   "id": "e8768c91-5462-41ab-aa1e-104d79d7fae6",
   "metadata": {},
   "source": [
    "Q2. Abstraction and Encapsulation are two fundamental concepts of OOPs that are often confused with each other. The key difference between the two is that Abstraction focuses on hiding the complexity of an object's implementation details from the user, whereas Encapsulation focuses on hiding the internal details of an object from the outside world to ensure data security.\n",
    "\n",
    "An example of abstraction is the car example we discussed earlier. The user interacts with the car through its interface (steering wheel, pedals, and gear shifter) without knowing the details of the engine, transmission, or other parts.\n",
    "\n",
    "An example of encapsulation can be seen in a bank account object. The account object's internal details (such as the account holder's name, account number, and balance) are hidden from the outside world, and the object only allows authorized access to these details through a set of defined methods (such as deposit, withdraw, and check balance)."
   ]
  },
  {
   "cell_type": "code",
   "execution_count": null,
   "id": "b428f674-9b3f-4db4-baa3-fd6309dfe64c",
   "metadata": {},
   "outputs": [],
   "source": [
    "Q3. The abc module in Python stands for Abstract Base Class. It is a built-in module in Python that provides the infrastructure for defining abstract base classes. An abstract base class is a class that is meant to be subclassed and cannot be instantiated on its own.\n",
    "\n",
    "The abc module provides the ABC class that can be used as a base class for creating abstract classes. Abstract classes can define abstract methods, which are methods that have only a signature and no implementation. Subclasses of the abstract base class must implement these abstract methods.\n",
    "\n",
    "The abc module is used in Python to enforce the concept of abstraction and ensure that certain methods or attributes are present in the subclass. It helps to create a consistent interface across different implementations of the same class."
   ]
  }
 ],
 "metadata": {
  "kernelspec": {
   "display_name": "Python 3 (ipykernel)",
   "language": "python",
   "name": "python3"
  },
  "language_info": {
   "codemirror_mode": {
    "name": "ipython",
    "version": 3
   },
   "file_extension": ".py",
   "mimetype": "text/x-python",
   "name": "python",
   "nbconvert_exporter": "python",
   "pygments_lexer": "ipython3",
   "version": "3.10.8"
  }
 },
 "nbformat": 4,
 "nbformat_minor": 5
}
