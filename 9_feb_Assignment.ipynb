{
 "cells": [
  {
   "cell_type": "markdown",
   "id": "dbe8b9d8-f5f3-43f2-b76d-b397bd267836",
   "metadata": {},
   "source": [
    "Q1:"
   ]
  },
  {
   "cell_type": "code",
   "execution_count": 1,
   "id": "17cf7aba-a6a2-466b-9996-4be5977b3c9a",
   "metadata": {},
   "outputs": [],
   "source": [
    "class vehicle:\n",
    "    def __init__(self,name_of_vehicle, max_speed,average_of_vehicle):\n",
    "        self.name_of_vehicle=name_of_vehicle\n",
    "        self.max_speed=max_speed\n",
    "        self.average_of_vehicle=average_of_vehicle\n",
    "    \n",
    "\n"
   ]
  },
  {
   "cell_type": "markdown",
   "id": "c6e99970-a3f8-4717-8994-0ac1bf26866e",
   "metadata": {},
   "source": [
    "Q2:"
   ]
  },
  {
   "cell_type": "code",
   "execution_count": 2,
   "id": "666845de-55f7-4729-be7b-86a1445dd022",
   "metadata": {},
   "outputs": [],
   "source": [
    "class car(vehicle):\n",
    "    def seating_capacity(self,capacity):\n",
    "        return f\"{self.name_of_vehicle} has a seating capacity of {capacity}.\" \n",
    "    "
   ]
  },
  {
   "cell_type": "code",
   "execution_count": 10,
   "id": "430eec5b-d608-4fd0-ac24-519f9dd60d7a",
   "metadata": {},
   "outputs": [],
   "source": [
    "num=car(\"XUV\",150,85)"
   ]
  },
  {
   "cell_type": "code",
   "execution_count": 4,
   "id": "b7dec873-db9e-4ef8-88cb-08b04340f2d0",
   "metadata": {},
   "outputs": [],
   "source": [
    "ans=vehicle(\"XUV\",150,85)"
   ]
  },
  {
   "cell_type": "code",
   "execution_count": 6,
   "id": "e2a353cc-07ea-42a1-bf15-e2329c39eebf",
   "metadata": {},
   "outputs": [
    {
     "data": {
      "text/plain": [
       "'XUV'"
      ]
     },
     "execution_count": 6,
     "metadata": {},
     "output_type": "execute_result"
    }
   ],
   "source": [
    "ans.name_of_vehicle"
   ]
  },
  {
   "cell_type": "code",
   "execution_count": 11,
   "id": "7c398672-329e-41c4-bbba-0b84135370b6",
   "metadata": {},
   "outputs": [
    {
     "data": {
      "text/plain": [
       "'XUV has a seating capacity of 4.'"
      ]
     },
     "execution_count": 11,
     "metadata": {},
     "output_type": "execute_result"
    }
   ],
   "source": [
    "num.seating_capacity(4)"
   ]
  },
  {
   "cell_type": "markdown",
   "id": "3a61ae14-b155-4c07-ba06-c9bdf46c6fd4",
   "metadata": {},
   "source": [
    "Q3"
   ]
  },
  {
   "cell_type": "markdown",
   "id": "58cef7e8-89ef-45c0-8b0d-31af2f266014",
   "metadata": {},
   "source": [
    "Multiple inheritance means when a Class can access different Class methods than that is known as Multiple inheritance"
   ]
  },
  {
   "cell_type": "code",
   "execution_count": 12,
   "id": "fce0ff3e-74b4-488e-8018-58a170fb5797",
   "metadata": {},
   "outputs": [],
   "source": [
    "class Boys:\n",
    "    def cou(self,num):\n",
    "        return f\"The Number of Boys in a class are {num}.\" \n",
    "        "
   ]
  },
  {
   "cell_type": "code",
   "execution_count": 21,
   "id": "4ddd0b67-d652-4011-bca0-b589cd163646",
   "metadata": {},
   "outputs": [],
   "source": [
    "class Girls:\n",
    "    def cou1(self,num1):\n",
    "        return f\"The Number of Girls in a class are {num1}.\" "
   ]
  },
  {
   "cell_type": "code",
   "execution_count": 22,
   "id": "05c65259-7fd7-4341-a833-72b5da877923",
   "metadata": {},
   "outputs": [],
   "source": [
    "class student(Boys,Girls):\n",
    "    pass"
   ]
  },
  {
   "cell_type": "code",
   "execution_count": 23,
   "id": "1c76f2d6-3909-40ab-8e54-2646cfeacadf",
   "metadata": {},
   "outputs": [],
   "source": [
    "a=Boys()"
   ]
  },
  {
   "cell_type": "code",
   "execution_count": 24,
   "id": "99eab52e-e858-4899-9587-c0185128fded",
   "metadata": {},
   "outputs": [
    {
     "data": {
      "text/plain": [
       "'The Number of Boys in a class are 12.'"
      ]
     },
     "execution_count": 24,
     "metadata": {},
     "output_type": "execute_result"
    }
   ],
   "source": [
    "a.cou(12)"
   ]
  },
  {
   "cell_type": "code",
   "execution_count": 25,
   "id": "aba676c1-f71d-45d7-b907-a4b50588dd4b",
   "metadata": {},
   "outputs": [],
   "source": [
    "b=Girls()"
   ]
  },
  {
   "cell_type": "code",
   "execution_count": 26,
   "id": "1504d02a-1560-437f-a1e6-58289e2fb0a3",
   "metadata": {},
   "outputs": [
    {
     "data": {
      "text/plain": [
       "'The Number of Girls in a class are 11.'"
      ]
     },
     "execution_count": 26,
     "metadata": {},
     "output_type": "execute_result"
    }
   ],
   "source": [
    "b.cou1(11)"
   ]
  },
  {
   "cell_type": "code",
   "execution_count": 28,
   "id": "0c2fc9b3-a3ee-45b2-aa04-66c2467859e5",
   "metadata": {},
   "outputs": [],
   "source": [
    "x=student()"
   ]
  },
  {
   "cell_type": "code",
   "execution_count": 30,
   "id": "0d5eef93-e3bc-47e8-b37a-14dd82dbd730",
   "metadata": {},
   "outputs": [
    {
     "data": {
      "text/plain": [
       "'The Number of Boys in a class are 13.'"
      ]
     },
     "execution_count": 30,
     "metadata": {},
     "output_type": "execute_result"
    }
   ],
   "source": [
    "x.cou(13)"
   ]
  },
  {
   "cell_type": "code",
   "execution_count": 31,
   "id": "877a6401-70f3-4c4c-9a85-97313f9ab27f",
   "metadata": {},
   "outputs": [
    {
     "data": {
      "text/plain": [
       "'The Number of Girls in a class are 10.'"
      ]
     },
     "execution_count": 31,
     "metadata": {},
     "output_type": "execute_result"
    }
   ],
   "source": [
    "x.cou1(10)"
   ]
  },
  {
   "cell_type": "markdown",
   "id": "3ef32686-52bd-4c8e-8f80-9e595005bfaf",
   "metadata": {},
   "source": [
    "Q4:"
   ]
  },
  {
   "cell_type": "markdown",
   "id": "351d81b7-79c2-43e3-9f1b-6fc2cf19dff3",
   "metadata": {},
   "source": [
    "Getters and setters are methods that are used to access and modify the values of instance variables in a class. Getters are used to get the value of an instance variable, and setters are used to set the value of an instance variable. Here's an example code to demonstrate getters and setters:"
   ]
  },
  {
   "cell_type": "code",
   "execution_count": null,
   "id": "b5d38d51-4ae9-4f09-b644-e7e5aa20624a",
   "metadata": {},
   "outputs": [],
   "source": []
  }
 ],
 "metadata": {
  "kernelspec": {
   "display_name": "Python 3 (ipykernel)",
   "language": "python",
   "name": "python3"
  },
  "language_info": {
   "codemirror_mode": {
    "name": "ipython",
    "version": 3
   },
   "file_extension": ".py",
   "mimetype": "text/x-python",
   "name": "python",
   "nbconvert_exporter": "python",
   "pygments_lexer": "ipython3",
   "version": "3.10.8"
  }
 },
 "nbformat": 4,
 "nbformat_minor": 5
}
