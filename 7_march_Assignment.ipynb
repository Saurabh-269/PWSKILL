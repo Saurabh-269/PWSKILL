{
 "cells": [
  {
   "cell_type": "markdown",
   "id": "6d860521-cba5-4f6f-8604-49fc807b208e",
   "metadata": {},
   "source": [
    "Q1"
   ]
  },
  {
   "cell_type": "markdown",
   "id": "9a7256e1-a11f-47db-8fd0-dffecb4704f0",
   "metadata": {},
   "source": [
    "mean,median and mode are 3 mode of central tendency"
   ]
  },
  {
   "cell_type": "markdown",
   "id": "6212dd1f-a186-4d5e-8e0f-7d16d0ed91f0",
   "metadata": {},
   "source": [
    "Q2"
   ]
  },
  {
   "cell_type": "markdown",
   "id": "e4ea194f-d0b3-4627-8e97-b9dbd6584978",
   "metadata": {},
   "source": [
    "the main difference between mean,median and mode is that mean is calculateds by adding up all the data element and dividing it by its total quantity , median is calculated by first sorting the dataset and than finding the middle element , mode is calculated by finding the element which occur maximum number of times in your dataset"
   ]
  },
  {
   "cell_type": "markdown",
   "id": "b188800f-326e-455f-93be-e0858ad01444",
   "metadata": {},
   "source": [
    "they are used to calculate the central tendency depending on different condition if there is no outlier than mean can be used , if outlier is present than median can be used in case of continuous data type and if it non continuous data type than mode is used to calculate central tendency"
   ]
  },
  {
   "cell_type": "markdown",
   "id": "54a920fe-a990-406d-89ac-ea2a06d82946",
   "metadata": {},
   "source": [
    "Q3"
   ]
  },
  {
   "cell_type": "code",
   "execution_count": 1,
   "id": "96aafbda-f8a7-4432-a98b-21a2bbcc1db5",
   "metadata": {},
   "outputs": [],
   "source": [
    "#Mean: 177.6 cm\n",
    "#Median: 177.5 cm\n",
    "#Mode: 178 cm"
   ]
  },
  {
   "cell_type": "markdown",
   "id": "dad7e7f6-92c6-4d53-bab1-e0094394ccf3",
   "metadata": {},
   "source": [
    "Q4"
   ]
  },
  {
   "cell_type": "markdown",
   "id": "e2b36421-78e6-422e-b1fd-b18e1de5b646",
   "metadata": {},
   "source": [
    "The standard deviation for the given data is 1.2 cm"
   ]
  },
  {
   "cell_type": "markdown",
   "id": "e163bdbe-acf6-450f-901b-c9db1bfa354a",
   "metadata": {},
   "source": [
    "Q5"
   ]
  },
  {
   "cell_type": "markdown",
   "id": "d36ba020-bf9f-4ffc-acd2-a2d787fc4e62",
   "metadata": {},
   "source": [
    " Measures of dispersion such as range, variance, and standard deviation are used to describe the spread of a dataset. The range is the difference between the largest and smallest values in a dataset. The variance is a measure of how spread out the values in a dataset are from the mean. The standard deviation is the square root of the variance.\n",
    "\n",
    "For example, the range of the given data is 2 cm (180 cm - 178 cm). The variance is 0.0144 cm^2. The standard deviation is 0.12 cm|"
   ]
  },
  {
   "cell_type": "markdown",
   "id": "5be62147-cc48-41cb-8564-b584c7bced56",
   "metadata": {},
   "source": [
    "Q6"
   ]
  },
  {
   "cell_type": "markdown",
   "id": "7bcf1556-45bc-4126-9566-17b4a3e136c6",
   "metadata": {},
   "source": [
    "A Venn diagram is a graphical representation of a set or sets. It is made up of circles that represent the sets, and the area of each circle represents the number of elements in the set."
   ]
  },
  {
   "cell_type": "markdown",
   "id": "7218f70e-d422-4631-ad7b-9e1a8c83a7fc",
   "metadata": {},
   "source": [
    "Q7"
   ]
  },
  {
   "cell_type": "code",
   "execution_count": 2,
   "id": "b477bdbb-8144-4b62-aac0-c32286679d8d",
   "metadata": {},
   "outputs": [],
   "source": [
    " #(i) A B = {2, 3, 4, 5, 6, 7}\n",
    "#(ii) A ⋃ B = {0, 2, 3, 4, 5, 6, 7, 8, 10}"
   ]
  },
  {
   "cell_type": "markdown",
   "id": "c8726263-c4fb-4c88-97ea-a2dfadf2b500",
   "metadata": {},
   "source": [
    "Q8"
   ]
  },
  {
   "cell_type": "markdown",
   "id": "94a6cdc3-47e7-4dd3-b769-096c10636213",
   "metadata": {},
   "source": [
    "skewness occur when your dataset is not symmetric.Skewness can be postive skewed and negative skewed"
   ]
  },
  {
   "cell_type": "markdown",
   "id": "e550c240-321f-4547-859b-f8765a101d10",
   "metadata": {},
   "source": [
    "positive skewed : mean>=median>=mode"
   ]
  },
  {
   "cell_type": "markdown",
   "id": "dd5f45e3-83e9-4ab2-ac77-b110bcd2d6e8",
   "metadata": {},
   "source": [
    "negative skewed : mean<=median<=mode"
   ]
  },
  {
   "cell_type": "markdown",
   "id": "a214b3c6-48a1-4c83-8697-0da2653b795b",
   "metadata": {},
   "source": [
    "Q9"
   ]
  },
  {
   "cell_type": "markdown",
   "id": "866b2d89-0c76-40b7-b190-b33edb108796",
   "metadata": {},
   "source": [
    "positive skewed : mean>=median>=mode"
   ]
  },
  {
   "cell_type": "markdown",
   "id": "206b3a46-61e0-4a4d-b766-26a83c283816",
   "metadata": {},
   "source": [
    "Q10"
   ]
  },
  {
   "cell_type": "markdown",
   "id": "902d9dde-27ed-4ca6-87fe-ac198fa2fa5d",
   "metadata": {},
   "source": [
    "covariance does not have any limit i..e range but correlation has limit i..e range it lies between [-1,1]"
   ]
  },
  {
   "cell_type": "markdown",
   "id": "f1727f68-cfb5-40d8-9ca1-8d1a980b04aa",
   "metadata": {},
   "source": [
    "correlation is more preffered over covariance"
   ]
  },
  {
   "cell_type": "code",
   "execution_count": null,
   "id": "204188a8-5155-45f6-96a3-c4fc6a636812",
   "metadata": {},
   "outputs": [],
   "source": []
  }
 ],
 "metadata": {
  "kernelspec": {
   "display_name": "Python 3 (ipykernel)",
   "language": "python",
   "name": "python3"
  },
  "language_info": {
   "codemirror_mode": {
    "name": "ipython",
    "version": 3
   },
   "file_extension": ".py",
   "mimetype": "text/x-python",
   "name": "python",
   "nbconvert_exporter": "python",
   "pygments_lexer": "ipython3",
   "version": "3.10.8"
  }
 },
 "nbformat": 4,
 "nbformat_minor": 5
}
