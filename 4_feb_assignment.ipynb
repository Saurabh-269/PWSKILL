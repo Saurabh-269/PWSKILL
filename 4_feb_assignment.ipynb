{
 "cells": [
  {
   "cell_type": "markdown",
   "id": "a0747fe6-3bc2-4751-bdbc-62ec93b48c97",
   "metadata": {},
   "source": [
    "1:"
   ]
  },
  {
   "cell_type": "code",
   "execution_count": 1,
   "id": "ca5c83d6-22ef-46b2-a687-0733d7f2780b",
   "metadata": {},
   "outputs": [
    {
     "name": "stdout",
     "output_type": "stream",
     "text": [
      "[('Virat Kohli', 24936), ('Jack Kallis', 25534), ('Ricky Ponting', 27483), ('Sachin Tendulkar', 34357)]\n"
     ]
    }
   ],
   "source": [
    "lst = [('Sachin Tendulkar', 34357), ('Ricky Ponting', 27483), ('Jack Kallis', 25534), ('Virat Kohli', 24936)]\n",
    "lst_sorted = sorted(lst, key=lambda x: x[1])\n",
    "print(lst_sorted)\n"
   ]
  },
  {
   "cell_type": "markdown",
   "id": "085f84c4-7680-4460-bea3-b2fe45c819a9",
   "metadata": {},
   "source": [
    "2:"
   ]
  },
  {
   "cell_type": "code",
   "execution_count": 2,
   "id": "7a990665-3f15-42e9-a8f7-f012e751b513",
   "metadata": {},
   "outputs": [
    {
     "name": "stdout",
     "output_type": "stream",
     "text": [
      "[1, 4, 9, 16, 25, 36, 49, 64, 81, 100]\n"
     ]
    }
   ],
   "source": [
    "lst = [1, 2, 3, 4, 5, 6, 7, 8, 9, 10]\n",
    "squares = list(map(lambda x: x**2, lst))\n",
    "print(squares)\n"
   ]
  },
  {
   "cell_type": "markdown",
   "id": "27a960d7-0075-45cb-a9b0-c6f4667f2c4a",
   "metadata": {},
   "source": [
    "3:"
   ]
  },
  {
   "cell_type": "code",
   "execution_count": 3,
   "id": "94127130-8e92-464c-baaa-0c5798d978bb",
   "metadata": {},
   "outputs": [
    {
     "name": "stdout",
     "output_type": "stream",
     "text": [
      "('1', '2', '3', '4', '5', '6', '7', '8', '9', '10')\n"
     ]
    }
   ],
   "source": [
    "lst = [1, 2, 3, 4, 5, 6, 7, 8, 9, 10]\n",
    "tuple_str = tuple(map(lambda x: str(x), lst))\n",
    "print(tuple_str)"
   ]
  },
  {
   "cell_type": "markdown",
   "id": "3e125f53-4293-4cd5-9e18-07625e8dd33e",
   "metadata": {},
   "source": [
    "4:"
   ]
  },
  {
   "cell_type": "code",
   "execution_count": 4,
   "id": "e3261f0a-e756-4f11-ad64-48ed607902bd",
   "metadata": {},
   "outputs": [
    {
     "name": "stdout",
     "output_type": "stream",
     "text": [
      "15511210043330985984000000\n"
     ]
    }
   ],
   "source": [
    "from functools import reduce\n",
    "\n",
    "lst = list(range(1, 26))\n",
    "product = reduce(lambda x, y: x*y, lst)\n",
    "print(product)\n"
   ]
  },
  {
   "cell_type": "markdown",
   "id": "dcc37ff3-e0eb-4303-bfef-94e2a2cf4ecc",
   "metadata": {},
   "source": [
    "5:"
   ]
  },
  {
   "cell_type": "code",
   "execution_count": 5,
   "id": "d5ea25e6-00cb-4f97-a7a8-77a251939004",
   "metadata": {},
   "outputs": [
    {
     "name": "stdout",
     "output_type": "stream",
     "text": [
      "[6, 60, 90, 120]\n"
     ]
    }
   ],
   "source": [
    "lst = [2, 3, 6, 9, 27, 60, 90, 120, 55, 46]\n",
    "divisible = list(filter(lambda x: x % 2 == 0 and x % 3 == 0, lst))\n",
    "print(divisible)\n"
   ]
  },
  {
   "cell_type": "code",
   "execution_count": null,
   "id": "53370737-880a-4bcb-ba6e-30b91bce6ec6",
   "metadata": {},
   "outputs": [],
   "source": []
  }
 ],
 "metadata": {
  "kernelspec": {
   "display_name": "Python 3 (ipykernel)",
   "language": "python",
   "name": "python3"
  },
  "language_info": {
   "codemirror_mode": {
    "name": "ipython",
    "version": 3
   },
   "file_extension": ".py",
   "mimetype": "text/x-python",
   "name": "python",
   "nbconvert_exporter": "python",
   "pygments_lexer": "ipython3",
   "version": "3.10.8"
  }
 },
 "nbformat": 4,
 "nbformat_minor": 5
}
