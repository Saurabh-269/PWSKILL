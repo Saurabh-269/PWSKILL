{
 "cells": [
  {
   "cell_type": "markdown",
   "id": "44331e3c-acc0-4b3f-a96f-517f60f348af",
   "metadata": {},
   "source": [
    "Q1"
   ]
  },
  {
   "cell_type": "markdown",
   "id": "6246ac4d-488f-41e9-be43-11cfa4f05f2d",
   "metadata": {},
   "source": [
    "API help us to communicate between two heterogenous app or between two homogenous app. As we know that in the case of frontend and backend they both are made in different language but if we use api than we can easily establish communicate betwen them.\n",
    "Example of API used in real life is GPAY\n",
    "API stands for Application Programming Interface, which allows software programs to communicate and interact with each other. In simple terms, it defines a set of rules, protocols, and tools for building software applications.\n",
    "\n",
    "An example of an API in real life is the Google Maps API, which allows developers to integrate Google Maps into their applications. Many websites and mobile apps use Google Maps to display location-based information, and they do so using the Google Maps API, which provides access to the mapping data and functionality."
   ]
  },
  {
   "cell_type": "markdown",
   "id": "1f97c182-f492-4d7f-85c6-d75eef5ca2ee",
   "metadata": {},
   "source": [
    "Q2"
   ]
  },
  {
   "cell_type": "markdown",
   "id": "f5c42171-3c4c-4328-a50e-bcfc23399b04",
   "metadata": {},
   "source": [
    "Advantage of using API:"
   ]
  },
  {
   "cell_type": "markdown",
   "id": "038a9069-ddf1-4cbc-99dd-41a9e5660333",
   "metadata": {},
   "source": [
    "APIs provide easy access to data and functionality of other software applications.\n",
    "APIs can speed up development by allowing developers to reuse existing code and services.\n",
    "APIs promote innovation and collaboration by allowing developers to create new applications that integrate with other systems.\n",
    "APIs can help to reduce development costs and time by avoiding the need to develop everything from scratch."
   ]
  },
  {
   "cell_type": "markdown",
   "id": "c92587e7-4752-49d6-b553-036deb8dc89f",
   "metadata": {},
   "source": [
    "Disadvantages of using API:"
   ]
  },
  {
   "cell_type": "markdown",
   "id": "913571bf-3cc5-4f21-b201-da16aba4a5f1",
   "metadata": {},
   "source": [
    "APIs can be complex and difficult to understand, which can make them challenging to use for some developers.\n",
    "APIs may not be stable, meaning that changes or updates can cause compatibility issues with existing applications.\n",
    "APIs can present security risks if they are not designed and implemented securely, potentially exposing sensitive data or functionality to unauthorized users.\n",
    "APIs can create dependencies on external services, which can be problematic if those services are unavailable or unreliable."
   ]
  },
  {
   "cell_type": "markdown",
   "id": "83761c34-1902-473c-a9f5-4e53e4ac36ce",
   "metadata": {},
   "source": [
    "Q3:"
   ]
  },
  {
   "cell_type": "markdown",
   "id": "f7f29d14-724b-4561-a0fc-b69d02ed9265",
   "metadata": {},
   "source": [
    "A Web API, also known as a web service, is an API that uses the HTTP protocol to enable communication between different software systems over the internet. A web API can be accessed through a web browser or using a programming language, and it typically returns data in a standard format such as JSON or XML.\n",
    "\n",
    "The main difference between an API and a web API is that a web API is specifically designed for use over the internet, while an API may be used for communication between software systems within an organization or on a local network."
   ]
  },
  {
   "cell_type": "markdown",
   "id": "898044b8-df44-43a0-bf32-df8f89348be4",
   "metadata": {},
   "source": [
    "Q4:"
   ]
  },
  {
   "cell_type": "markdown",
   "id": "1f9fa300-ccc3-42ea-bbb7-f0d5b2bebb0f",
   "metadata": {},
   "source": [
    "REST (Representational State Transfer) and SOAP (Simple Object Access Protocol) are two popular architectural styles used for designing web services.\n",
    "\n",
    "REST is a lightweight and scalable architecture that uses HTTP requests to access and manipulate data. RESTful web services use a set of predefined operations (GET, POST, PUT, DELETE) to perform CRUD (Create, Read, Update, Delete) operations on resources. RESTful web services typically use JSON or XML as the data exchange format.\n",
    "\n",
    "SOAP is a more complex architecture that uses XML-based messages to exchange information between client and server. SOAP defines a set of rules for exchanging structured information between applications over HTTP, SMTP, or other protocols. SOAP web services are more suitable for enterprise-level applications where security and reliability are critical."
   ]
  },
  {
   "cell_type": "markdown",
   "id": "19b7e196-e3f8-405c-956d-274951e925d7",
   "metadata": {},
   "source": [
    "Shortcomings of SOAP:\n",
    "\n",
    "SOAP is more complex and verbose than REST, making it more difficult to understand and use.\n",
    "SOAP requires more bandwidth and processing power compared to REST due to its use of XML-based messages.\n",
    "SOAP has limited support for browser-based clients, which can make it difficult to use in web applications.\n",
    "SOAP-based services are more difficult to scale than RESTful services, which can limit their scalability in large-scale applications"
   ]
  },
  {
   "cell_type": "markdown",
   "id": "3bfafec4-18cf-4964-a013-a3c9e21dc7df",
   "metadata": {},
   "source": [
    "Q5:"
   ]
  },
  {
   "cell_type": "markdown",
   "id": "25201946-b32b-4d7c-9f15-7d34a187fef1",
   "metadata": {},
   "source": [
    "REST and SOAP are two popular architectural styles used for designing web services. Here are the main differences between them:\n",
    "\n",
    "REST is a lightweight and scalable architecture that uses HTTP requests to access and manipulate data, while SOAP is a more complex architecture that uses XML-based messages to exchange information between client and server.\n",
    "RESTful web services use a set of predefined operations (GET, POST, PUT, DELETE) to perform"
   ]
  },
  {
   "cell_type": "code",
   "execution_count": null,
   "id": "ae415228-9b1e-42ab-a966-37bc00bd8656",
   "metadata": {},
   "outputs": [],
   "source": []
  }
 ],
 "metadata": {
  "kernelspec": {
   "display_name": "Python 3 (ipykernel)",
   "language": "python",
   "name": "python3"
  },
  "language_info": {
   "codemirror_mode": {
    "name": "ipython",
    "version": 3
   },
   "file_extension": ".py",
   "mimetype": "text/x-python",
   "name": "python",
   "nbconvert_exporter": "python",
   "pygments_lexer": "ipython3",
   "version": "3.10.8"
  }
 },
 "nbformat": 4,
 "nbformat_minor": 5
}
