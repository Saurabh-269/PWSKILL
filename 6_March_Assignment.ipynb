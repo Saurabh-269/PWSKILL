{
 "cells": [
  {
   "cell_type": "markdown",
   "id": "74624fbf-4d30-4cf9-908d-707d38cbb23f",
   "metadata": {},
   "source": [
    "Q1"
   ]
  },
  {
   "cell_type": "markdown",
   "id": "c7cb73b5-6a08-464d-9939-267f917a7984",
   "metadata": {},
   "source": [
    "Statistics is the science of collecting ,organising and analyzing data"
   ]
  },
  {
   "cell_type": "markdown",
   "id": "cdd8da45-2e5b-4f8a-8b09-153a76c61b0e",
   "metadata": {},
   "source": [
    "Q2"
   ]
  },
  {
   "cell_type": "markdown",
   "id": "bc35f35a-a8d7-4e70-8126-a62aaec97193",
   "metadata": {},
   "source": [
    "There are two types of statistics "
   ]
  },
  {
   "cell_type": "markdown",
   "id": "02ed06ae-a196-4f1e-89d1-a85f59a9a52c",
   "metadata": {},
   "source": [
    "1 : Descriptive Statistics"
   ]
  },
  {
   "cell_type": "markdown",
   "id": "d77add4b-525f-4080-967c-0885f010f33e",
   "metadata": {},
   "source": [
    "Example : Average of height of students in your class"
   ]
  },
  {
   "cell_type": "markdown",
   "id": "426f6983-d27f-419f-88d2-da69fe975f42",
   "metadata": {},
   "source": [
    "2: Inferential Statistics"
   ]
  },
  {
   "cell_type": "markdown",
   "id": "3ea3ea9d-1b2b-4c77-a374-de1f3c24fa7c",
   "metadata": {},
   "source": [
    "Example : Exit poll During Election"
   ]
  },
  {
   "cell_type": "markdown",
   "id": "e727abf2-34a8-49de-833e-f80923bc2c8c",
   "metadata": {},
   "source": [
    "Q3"
   ]
  },
  {
   "cell_type": "markdown",
   "id": "bbc19691-a7ba-4a93-8533-8941edd4e4b4",
   "metadata": {},
   "source": [
    "There are bsically two types of data"
   ]
  },
  {
   "cell_type": "markdown",
   "id": "4f9a2e16-d14d-4bb1-991d-7e6961b561c1",
   "metadata": {},
   "source": [
    "1 : Quantitative data : It is basically a numerical data"
   ]
  },
  {
   "cell_type": "markdown",
   "id": "a0019f9e-9f57-490e-8c1b-68fcd0c7fb69",
   "metadata": {},
   "source": [
    "example: No of Student in your class "
   ]
  },
  {
   "cell_type": "markdown",
   "id": "5ea1b9a3-b16d-4b98-8b20-8a10a5c5f18c",
   "metadata": {},
   "source": [
    "2 : Qualitative data : It is basically a cateogrical data"
   ]
  },
  {
   "cell_type": "markdown",
   "id": "f366397e-1c90-409e-950d-c96d7bc71ef1",
   "metadata": {},
   "source": [
    "example : gender data"
   ]
  },
  {
   "cell_type": "markdown",
   "id": "f4bf2ccb-720e-4910-84b0-f7cb8640c655",
   "metadata": {},
   "source": [
    "Q4"
   ]
  },
  {
   "cell_type": "markdown",
   "id": "b203d98b-8c4f-44f0-9ba3-33278cfd4f52",
   "metadata": {},
   "source": [
    "(i) Qualitative data"
   ]
  },
  {
   "cell_type": "markdown",
   "id": "11f414ce-02cd-4ea9-a0e4-c2bdf18e878f",
   "metadata": {},
   "source": [
    "(ii) Qualitative data"
   ]
  },
  {
   "cell_type": "markdown",
   "id": "5830c77f-34db-49d0-8c1e-cf692b6984ef",
   "metadata": {},
   "source": [
    "(iii) Quantitative data"
   ]
  },
  {
   "cell_type": "markdown",
   "id": "53433264-eb9a-4250-a966-36ad126174b2",
   "metadata": {},
   "source": [
    "(iv) Quantitative data"
   ]
  },
  {
   "cell_type": "markdown",
   "id": "80145144-cd1c-4def-b393-fa86744cc65a",
   "metadata": {},
   "source": [
    "Q5"
   ]
  },
  {
   "cell_type": "markdown",
   "id": "2227d461-651a-45f1-8ad3-e58ed68e5cf7",
   "metadata": {},
   "source": [
    "There are basically 4 types of scale of measurement"
   ]
  },
  {
   "cell_type": "markdown",
   "id": "cad2d63c-fd4f-4b54-ab97-9f4d44cd803f",
   "metadata": {},
   "source": [
    "1 : Nominal Scale Data "
   ]
  },
  {
   "cell_type": "code",
   "execution_count": 1,
   "id": "b279914c-f8de-4b7c-a0d0-1ce827d9a218",
   "metadata": {},
   "outputs": [],
   "source": [
    "# It basically done on Qulitative data\n",
    "# Order is not important\n",
    "# Example : Favourite Colour"
   ]
  },
  {
   "cell_type": "markdown",
   "id": "6d911d9e-08f5-4b7f-ad05-ba2215c2bdeb",
   "metadata": {},
   "source": [
    "2 : Ordinal Scale Data "
   ]
  },
  {
   "cell_type": "code",
   "execution_count": 3,
   "id": "33f564a4-ba83-418b-bb3d-84cd191c2451",
   "metadata": {},
   "outputs": [],
   "source": [
    "# Ranking is important\n",
    "# Order is important\n",
    "# Differene can not be measured\n",
    "# Example: \n",
    "#1->Best\n",
    "#2->Good\n",
    "#3->Bad"
   ]
  },
  {
   "cell_type": "markdown",
   "id": "9d5e4c03-6a1f-46c0-a1b9-757e6c8363d7",
   "metadata": {},
   "source": [
    "3 : Interval Scale Data "
   ]
  },
  {
   "cell_type": "code",
   "execution_count": 4,
   "id": "175456f8-2ef8-420a-8218-1637fbd1a7e8",
   "metadata": {},
   "outputs": [],
   "source": [
    "# Ranking is important\n",
    "# Order is important\n",
    "# Differene can be measured\n",
    "# Ratio can not be calculated\n",
    "# No \"0\" Starting point\n",
    "#Example :\n",
    "#Temperature data"
   ]
  },
  {
   "cell_type": "markdown",
   "id": "028159bf-851b-4764-adb3-cff1105927cf",
   "metadata": {},
   "source": [
    "4 : Ratio Scale Data "
   ]
  },
  {
   "cell_type": "code",
   "execution_count": 5,
   "id": "6d8b9a1b-5690-488f-beba-e3ba9b3e8bda",
   "metadata": {},
   "outputs": [],
   "source": [
    "# Ranking is important\n",
    "# Order is important\n",
    "# Differene can be measured\n",
    "# Ratio can be calculated\n",
    "# It has \"0\" Starting point\n",
    "#Example :\n",
    "#Student marks in class"
   ]
  },
  {
   "cell_type": "markdown",
   "id": "79e07edc-a52f-471b-896a-e49071e806ea",
   "metadata": {},
   "source": [
    "Q6"
   ]
  },
  {
   "cell_type": "markdown",
   "id": "b97a4df5-a6c2-4364-be23-43f317818595",
   "metadata": {},
   "source": [
    "\n",
    "It is important to understand the level of measurement when analyzing data because it determines the type of statistical analysis that can be applied to the data and the appropriate interpretation of the results. The level of measurement refers to the nature and properties of the data, which can be either qualitative or quantitative, and the extent to which they can be measured.\n",
    "\n",
    "For example, consider a survey that measures the level of satisfaction of customers with a particular product on a scale from 1 to 5, where 1 is \"Very Dissatisfied\" and 5 is \"Very Satisfied\". This data is ordinal, as the values represent an ordered ranking, but the interval between the values is not known. It would not be appropriate to calculate the mean satisfaction level using this data, as the interval between the values is not constant, and the difference between \"Very Dissatisfied\" and \"Dissatisfied\" may not be the same as the difference between \"Satisfied\" and \"Very Satisfied\". Instead, a more appropriate statistical analysis would be to calculate the median and interquartile range or conduct non-parametric tests like the Wilcoxon signed-rank test.\n",
    "\n",
    "In contrast, if the survey used a Likert scale where customers can rate the product from 1 to 5 with no labels, the data would be interval, and it would be appropriate to calculate the mean satisfaction level. Thus, understanding the level of measurement is crucial for selecting the appropriate statistical methods and ensuring accurate and meaningful interpretation of the results."
   ]
  },
  {
   "cell_type": "markdown",
   "id": "f66edab3-9e42-40b5-8b51-4fe1417f7199",
   "metadata": {},
   "source": [
    "Q7"
   ]
  },
  {
   "cell_type": "markdown",
   "id": "0c7e0cfc-41cc-4c0f-b763-6d4a416d8f62",
   "metadata": {},
   "source": [
    "In nominal data order is not important but in ordinal data order is important "
   ]
  },
  {
   "cell_type": "markdown",
   "id": "183ee15a-dcd1-40d8-8fb0-7f8acf79808d",
   "metadata": {},
   "source": [
    "In nominal data ranking is not important but in ordinal data ranking is important"
   ]
  },
  {
   "cell_type": "code",
   "execution_count": null,
   "id": "d7b31fc7-2636-4be3-8c87-bc284102dbac",
   "metadata": {},
   "outputs": [],
   "source": []
  }
 ],
 "metadata": {
  "kernelspec": {
   "display_name": "Python 3 (ipykernel)",
   "language": "python",
   "name": "python3"
  },
  "language_info": {
   "codemirror_mode": {
    "name": "ipython",
    "version": 3
   },
   "file_extension": ".py",
   "mimetype": "text/x-python",
   "name": "python",
   "nbconvert_exporter": "python",
   "pygments_lexer": "ipython3",
   "version": "3.10.8"
  }
 },
 "nbformat": 4,
 "nbformat_minor": 5
}
