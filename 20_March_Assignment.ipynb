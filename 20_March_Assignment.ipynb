{
 "cells": [
  {
   "cell_type": "markdown",
   "id": "10fc5b9d-b957-4c5c-81fe-5767f5eb6c2c",
   "metadata": {},
   "source": [
    "#### Q1"
   ]
  },
  {
   "cell_type": "markdown",
   "id": "78c5fc27-ba41-48bf-9930-12344287066c",
   "metadata": {},
   "source": [
    "Data encoding is the process of converting categorical data into numerical data. This is useful in data science because many machine learning algorithms only work with numerical data. Encoding categorical data allows us to use these algorithms to analyze our data."
   ]
  },
  {
   "cell_type": "markdown",
   "id": "2a1f42e6-bff5-4b31-abd6-548115d9cba0",
   "metadata": {},
   "source": [
    "#### Q2"
   ]
  },
  {
   "cell_type": "markdown",
   "id": "3ba8fc47-a75e-4b81-89ff-66534f4b0797",
   "metadata": {},
   "source": [
    "Nominal encoding is a type of data encoding where each category is assigned a unique integer value. This is the simplest type of data encoding and is often used when the categories have no inherent order. For example, you could use nominal encoding to represent the different colors of a product."
   ]
  },
  {
   "cell_type": "markdown",
   "id": "a7f45279-165b-4e29-b541-9368c996a50c",
   "metadata": {},
   "source": [
    "#### Q3"
   ]
  },
  {
   "cell_type": "markdown",
   "id": "140f6a44-39d6-49ad-923d-668edb201737",
   "metadata": {},
   "source": [
    "Nominal encoding is preferred over one-hot encoding when the categories have no inherent order. One-hot encoding creates a new column for each category, which can lead to a large increase in the size of the dataset. This can be a problem if the dataset is already large or if the categories are not very common.\n",
    "\n",
    "For example, you might use nominal encoding to represent the different types of pets that a person owns. There are many different types of pets, so using one-hot encoding would create a large number of new columns. This would make the dataset very large and difficult to work with."
   ]
  },
  {
   "cell_type": "markdown",
   "id": "d320e658-3893-46d8-b3a4-b351cb59ecf6",
   "metadata": {},
   "source": [
    "#### Q4"
   ]
  },
  {
   "cell_type": "markdown",
   "id": "525f5a50-6bc4-4f4b-a473-d345aca87c8f",
   "metadata": {},
   "source": [
    "I would use nominal encoding to transform this data into a format suitable for machine learning algorithms. This is because the categories have no inherent order. One-hot encoding would create a new column for each category, which would lead to a large increase in the size of the dataset."
   ]
  },
  {
   "cell_type": "markdown",
   "id": "d425fe92-b40c-43ee-9d49-d64158a67f6f",
   "metadata": {},
   "source": [
    "#### Q5"
   ]
  },
  {
   "cell_type": "markdown",
   "id": "32fee037-6032-4123-9dab-a1dee737f39e",
   "metadata": {},
   "source": [
    "If I were to use nominal encoding to transform the categorical data, 2 new columns would be created. This is because there are 2 categorical columns in the dataset. Each categorical column would be converted into a new column with unique integer values for each category."
   ]
  },
  {
   "cell_type": "markdown",
   "id": "d09a12cc-1ca4-41a2-ac34-b69b17ea2484",
   "metadata": {},
   "source": [
    "#### Q6"
   ]
  },
  {
   "cell_type": "markdown",
   "id": "1b443f66-87f7-45f0-9978-1889acf221f5",
   "metadata": {},
   "source": [
    "I would use one-hot encoding to transform the categorical data into a format suitable for machine learning algorithms. This is because the categories in this dataset have an inherent order. For example, the species of an animal can be ordered from most common to least common. One-hot encoding would create a new column for each category, which would allow the machine learning algorithm to learn the relationship between the different categorie"
   ]
  },
  {
   "cell_type": "code",
   "execution_count": null,
   "id": "3d1bc08f-7abc-49f4-b37e-22774f5ce5f2",
   "metadata": {},
   "outputs": [],
   "source": []
  }
 ],
 "metadata": {
  "kernelspec": {
   "display_name": "Python 3 (ipykernel)",
   "language": "python",
   "name": "python3"
  },
  "language_info": {
   "codemirror_mode": {
    "name": "ipython",
    "version": 3
   },
   "file_extension": ".py",
   "mimetype": "text/x-python",
   "name": "python",
   "nbconvert_exporter": "python",
   "pygments_lexer": "ipython3",
   "version": "3.10.8"
  }
 },
 "nbformat": 4,
 "nbformat_minor": 5
}
