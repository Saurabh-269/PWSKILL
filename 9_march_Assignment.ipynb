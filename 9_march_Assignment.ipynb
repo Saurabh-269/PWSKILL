{
 "cells": [
  {
   "cell_type": "markdown",
   "id": "2c8640a5-5d8b-4e23-baf0-dbebe7c89877",
   "metadata": {},
   "source": [
    "Q1"
   ]
  },
  {
   "cell_type": "markdown",
   "id": "1de443e6-addb-4b06-ab71-65d319fea5ac",
   "metadata": {},
   "source": [
    "The probability mass function (PMF) is a function that gives the probability of a discrete random variable taking on a particular value. The probability density function (PDF) is a function that gives the probability of a continuous random variable taking on a particular value in an interval"
   ]
  },
  {
   "cell_type": "markdown",
   "id": "a20a6575-712d-42ec-99b8-5821112f8202",
   "metadata": {},
   "source": [
    "An example of a PMF is the probability of flipping a coin and getting heads."
   ]
  },
  {
   "cell_type": "markdown",
   "id": "b2037a44-5b7b-41e5-9e38-2e2f7552f14e",
   "metadata": {},
   "source": [
    "An example of a PDF is the probability of a standard normal variable taking on a particular value"
   ]
  },
  {
   "cell_type": "markdown",
   "id": "17ebdcce-57ea-475d-bc88-68cf0be77752",
   "metadata": {},
   "source": [
    "Q2"
   ]
  },
  {
   "cell_type": "markdown",
   "id": "dcbd798b-c384-42ba-9b05-4219f24ca4f0",
   "metadata": {},
   "source": [
    "the cumulative distribution function (CDF) is a function that gives the probability of a random variable taking on a value less than or equal to a particular value.\n",
    "\n",
    "An example of a CDF is the CDF for the probability of flipping a coin and getting heads"
   ]
  },
  {
   "cell_type": "markdown",
   "id": "204c3ff5-29b5-45fd-9b3a-39e6ffb8f937",
   "metadata": {},
   "source": [
    "The CDF is used to calculate the probability of a random variable taking on a particular value"
   ]
  },
  {
   "cell_type": "markdown",
   "id": "8cffea7f-604a-4042-9e52-705c43ab07a8",
   "metadata": {},
   "source": [
    "Q3"
   ]
  },
  {
   "cell_type": "code",
   "execution_count": 2,
   "id": "f46016b4-73e8-4766-b407-ebff23fd37a6",
   "metadata": {},
   "outputs": [],
   "source": [
    "#The normal distribution is a very common distribution that can be used to model a wide variety of data. Some examples of situations where the normal distribution might be used as a model include:\n",
    "\n",
    "#The heights of people\n",
    "#The weights of people\n",
    "#The scores on a test\n",
    "#The amount of time it takes to complete a task\n",
    "#The parameters of the normal distribution are the mean and the standard deviation. The mean is the average value of the distribution, and the standard deviation is a measure of how spread out the distribution is. The shape of the normal distribution is symmetrical, with the mean in the center and the standard deviation on either side."
   ]
  },
  {
   "cell_type": "markdown",
   "id": "7b660516-1f73-4c05-9d21-3f18425722f7",
   "metadata": {},
   "source": [
    "Q4"
   ]
  },
  {
   "cell_type": "code",
   "execution_count": 3,
   "id": "9b42c440-38c0-4262-9b94-1b027d2297a0",
   "metadata": {},
   "outputs": [],
   "source": [
    "#The normal distribution is an important distribution because it is used to model a wide variety of data. Some real-life examples of normal distributions include:\n",
    "\n",
    "#The heights of people\n",
    "#The weights of people\n",
    "#The scores on a test\n",
    "#The amount of time it takes to complete a task\n",
    "#The normal distribution is also used in many statistical tests, such as the t-test and the F-test. These tests are used to compare the means of two or more groups."
   ]
  },
  {
   "cell_type": "markdown",
   "id": "74665c8c-dfac-4a1f-8547-a3afdc511061",
   "metadata": {},
   "source": [
    "Q5"
   ]
  },
  {
   "cell_type": "markdown",
   "id": "a7f8cad5-31e2-4b04-acad-447d4b72be98",
   "metadata": {},
   "source": [
    "The Bernoulli distribution is a discrete probability distribution that describes the probability of a single binary event, such as flipping a coin or rolling a die. The probability of success is denoted by p and the probability of failure is denoted by q. The possible values of the Bernoulli distribution are 0 and 1, where 0 represents failure and 1 represents success.\n",
    "\n",
    "An example of a Bernoulli distribution is the probability of flipping a coin and getting heads. The probability of success (heads) is p = 0.5 and the probability of failure (tails) is q = 0.5.\n",
    "\n",
    "The binomial distribution is a generalization of the Bernoulli distribution that describes the probability of multiple independent binary events. The binomial distribution has two parameters: n, which is the number of trials, and p, which is the probability of success on each trial. The possible values of the binomial distribution are 0, 1, 2, ..., n.\n",
    "\n",
    "The difference between the Bernoulli distribution and the binomial distribution is that the Bernoulli distribution only describes the probability of a single binary event, while the binomial distribution describes the probability of multiple independent binary events."
   ]
  },
  {
   "cell_type": "markdown",
   "id": "79df9785-c8dc-4835-9771-36bd1cdb1f8d",
   "metadata": {},
   "source": [
    "Q6"
   ]
  },
  {
   "cell_type": "code",
   "execution_count": null,
   "id": "a6a696e4-a02d-465b-913e-f598b1ea1f50",
   "metadata": {},
   "outputs": [],
   "source": [
    "Convert the value 60 to a z-score. This is done by subtracting the mean from the value and then dividing by the standard deviation. In this case, the z-score is:"
   ]
  }
 ],
 "metadata": {
  "kernelspec": {
   "display_name": "Python 3 (ipykernel)",
   "language": "python",
   "name": "python3"
  },
  "language_info": {
   "codemirror_mode": {
    "name": "ipython",
    "version": 3
   },
   "file_extension": ".py",
   "mimetype": "text/x-python",
   "name": "python",
   "nbconvert_exporter": "python",
   "pygments_lexer": "ipython3",
   "version": "3.10.8"
  }
 },
 "nbformat": 4,
 "nbformat_minor": 5
}
