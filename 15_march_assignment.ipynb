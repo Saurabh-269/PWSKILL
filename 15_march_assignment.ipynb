{
 "cells": [
  {
   "cell_type": "markdown",
   "id": "d2e24994-cc65-40dc-bf7e-ceeca0ee7f7e",
   "metadata": {},
   "source": [
    "Q1"
   ]
  },
  {
   "cell_type": "markdown",
   "id": "c5ae291d-360a-430f-875c-9ed1b9ff9bee",
   "metadata": {},
   "source": [
    "Artificial intelligence (AI) is a branch of computer science that deals with the creation of intelligent agents, which are systems that can reason, learn, and act autonomously. AI research has been highly successful in developing effective techniques for solving a wide range of problems, from game playing to medical diagnosis.\n",
    "\n",
    "Example: AlphaGo, a computer program developed by Google DeepMind, defeated a professional human Go player in 2016. This was a significant milestone in AI research, as Go is a complex game that had previously been thought to be too difficult for computers to master."
   ]
  },
  {
   "cell_type": "markdown",
   "id": "3710ec93-fe4c-4b3c-a154-7498b5afdd3a",
   "metadata": {},
   "source": [
    "Q2"
   ]
  },
  {
   "cell_type": "markdown",
   "id": "3319d824-0677-43df-9049-10d89af771ba",
   "metadata": {},
   "source": [
    "Machine learning (ML) is a subfield of AI that focuses on the development of algorithms that can learn from data without being explicitly programmed. ML algorithms are trained on a large amount of data, and they can then be used to make predictions or decisions on new data.\n",
    "\n",
    "Example: Netflix uses ML algorithms to recommend movies and TV shows to its users. The algorithms are trained on a massive dataset of user ratings, and they can then be used to predict which movies and TV shows a user is likely to enjoy."
   ]
  },
  {
   "cell_type": "markdown",
   "id": "7f5fcd0e-ac60-452b-9819-834ab6122103",
   "metadata": {},
   "source": [
    "Q3"
   ]
  },
  {
   "cell_type": "markdown",
   "id": "03744537-2860-4fb1-b3b6-fd9236e5f127",
   "metadata": {},
   "source": [
    "Deep learning is a subset of ML that uses artificial neural networks to learn from data. Neural networks are inspired by the human brain, and they are able to learn complex patterns from data that would be difficult or impossible for traditional ML algorithms to learn.\n",
    "\n",
    "Example: ImageNet is a large dataset of images that is used to train deep learning algorithms for image recognition. Deep learning algorithms have been trained on ImageNet to achieve state-of-the-art results in image recognition tasks, such as object detection and face recognition."
   ]
  },
  {
   "cell_type": "markdown",
   "id": "68ab4ee6-b164-4cd0-936e-25841b6169a5",
   "metadata": {},
   "source": [
    "Q4"
   ]
  },
  {
   "cell_type": "markdown",
   "id": "d58cd1f6-0a26-42b4-b967-b4f782817b71",
   "metadata": {},
   "source": [
    "\n",
    "Data science is a field that combines computer science, statistics, and mathematics to extract knowledge and insights from data. Data scientists use a variety of tools and techniques to analyze data, and they often work with other professionals, such as engineers and business analysts, to solve real-world problems.\n",
    "\n",
    "Example: A data scientist might use machine learning algorithms to analyze customer data to identify patterns that can be used to improve customer service"
   ]
  },
  {
   "cell_type": "markdown",
   "id": "ef82f384-1506-4431-b49b-f2517f90e70f",
   "metadata": {},
   "source": [
    "Q5"
   ]
  },
  {
   "cell_type": "markdown",
   "id": "9cebddef-ae2d-4c53-bf34-070e0dd46809",
   "metadata": {},
   "source": [
    "AI is a broad term that refers to the creation of intelligent agents. ML is a subfield of AI that focuses on the development of algorithms that can learn from data without being explicitly programmed. DL is a subset of ML that uses artificial neural networks to learn from data. DS is a field that combines computer science, statistics, and mathematics to extract knowledge and insights from data."
   ]
  },
  {
   "cell_type": "markdown",
   "id": "fb2ae305-558f-4d83-ad9f-4e13d98a8741",
   "metadata": {},
   "source": [
    "Q6"
   ]
  },
  {
   "cell_type": "markdown",
   "id": "db7cac39-ffeb-47d2-a9a9-62753f6fed12",
   "metadata": {},
   "source": [
    "When training a machine learning model, it is important to split the data into three sets: the training set, the test set, and the validation set. The training set is used to train the model, the test set is used to evaluate the model's performance on unseen data, and the validation set is used to tune the model's hyperparameters.\n",
    "\n",
    "The training set should be large enough to provide the model with enough data to learn, but it should not be too large, or the model may overfit the training data. The test set should be small enough to be representative of the unseen data, but it should be large enough to provide a reliable evaluation of the model's performance. The validation set should be used to tune the model's hyperparameters, such as the learning rate and the regularization strength."
   ]
  },
  {
   "cell_type": "markdown",
   "id": "24fcb2ec-16ad-48dd-a7df-3c7fb3a60ee4",
   "metadata": {},
   "source": [
    "Q7"
   ]
  },
  {
   "cell_type": "markdown",
   "id": "4d9e3498-2a44-47bd-bec7-69009ac51d3a",
   "metadata": {},
   "source": [
    "Anomaly detection is a type of unsupervised learning that can be used to identify data points that are unusual or unexpected. Anomaly detection algorithms can be used to identify fraud, intrusions, and other problems in a variety of applications.\n",
    "\n",
    "One common approach to anomaly detection is to use a distance-based algorithm. Distance-based algorithms calculate the distance between each data point and its neighbors. Data points that are far away from their neighbors are considered to be outliers.\n",
    "\n",
    "Another common approach to anomaly detection is to use a density-based algorithm. Density-based algorithms identify data points that are located in low-density regions of the data space. Data points that are located in low-density regions are considered to be outliers."
   ]
  },
  {
   "cell_type": "markdown",
   "id": "37e9bd04-5c47-441b-a480-c2cc00175d65",
   "metadata": {},
   "source": [
    "Q8"
   ]
  },
  {
   "cell_type": "code",
   "execution_count": 1,
   "id": "98019425-af75-4b08-baf5-bae81050f3ad",
   "metadata": {},
   "outputs": [],
   "source": [
    "#Here are some commonly used supervised learning and unsupervised learning algorithms:\n",
    "\n",
    "#Supervised learning algorithms:\n",
    "#Linear regression\n",
    "#Logistic regression\n",
    "#Decision trees\n",
    "#Random forests\n",
    "#Support vector machines\n",
    "#Neural networks\n",
    "#Unsupervised learning algorithms:\n",
    "#K-means clustering\n",
    "#Hierarchical clustering\n",
    "#Principal component analysis\n",
    "#Singular value decomposition\n",
    "#Gaussian mixture models\n",
    "#Autoencoders"
   ]
  },
  {
   "cell_type": "code",
   "execution_count": null,
   "id": "68f614c8-183f-4d59-bfae-75a3d24e1ba8",
   "metadata": {},
   "outputs": [],
   "source": []
  }
 ],
 "metadata": {
  "kernelspec": {
   "display_name": "Python 3 (ipykernel)",
   "language": "python",
   "name": "python3"
  },
  "language_info": {
   "codemirror_mode": {
    "name": "ipython",
    "version": 3
   },
   "file_extension": ".py",
   "mimetype": "text/x-python",
   "name": "python",
   "nbconvert_exporter": "python",
   "pygments_lexer": "ipython3",
   "version": "3.10.8"
  }
 },
 "nbformat": 4,
 "nbformat_minor": 5
}
