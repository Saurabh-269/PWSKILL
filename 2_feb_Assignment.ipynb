{
 "cells": [
  {
   "cell_type": "markdown",
   "id": "378065bf-7b87-473c-ad4d-f2dce33f65b6",
   "metadata": {},
   "source": [
    "1: In computer programming, loops are used to execute a block of code repeatedly until a certain condition is met. There are two types of loops: for loops and while loops.\n",
    "\n",
    "A for loop is used when the number of iterations is known in advance. For example, you can use a for loop to iterate over a list of elements and print each one. Here's an example in Python:"
   ]
  },
  {
   "cell_type": "code",
   "execution_count": 2,
   "id": "fb5d572f-7898-4e60-97b6-3854bc5c2bdd",
   "metadata": {},
   "outputs": [
    {
     "name": "stdout",
     "output_type": "stream",
     "text": [
      "apple\n",
      "banana\n",
      "cherry\n"
     ]
    }
   ],
   "source": [
    "fruits = ['apple', 'banana', 'cherry']\n",
    "for fruit in fruits:\n",
    "  print(fruit)\n"
   ]
  },
  {
   "cell_type": "markdown",
   "id": "06fa8ccf-5a0f-49c9-8476-6779f06b3cd3",
   "metadata": {},
   "source": [
    "A while loop is used when the number of iterations is unknown or when you want to repeat a block of code until a certain condition is met. For example, you can use a while loop to repeatedly ask a user for input until they provide a valid response. Here's an example in Python:"
   ]
  },
  {
   "cell_type": "code",
   "execution_count": 3,
   "id": "140e989c-93c6-4299-b929-5b8ddcacbbad",
   "metadata": {},
   "outputs": [
    {
     "name": "stdin",
     "output_type": "stream",
     "text": [
      "Do you want to continue? (yes/no) yes\n"
     ]
    }
   ],
   "source": [
    "response = ''\n",
    "while response != 'yes':\n",
    "  response = input(\"Do you want to continue? (yes/no)\")\n"
   ]
  },
  {
   "cell_type": "markdown",
   "id": "b4b7c2c6-ba8d-41da-90fc-39fc6d232317",
   "metadata": {},
   "source": [
    "2: Here's an example of a Python program that uses a for loop to print the sum and product of the first 10 natural  numbers:2:"
   ]
  },
  {
   "cell_type": "code",
   "execution_count": 4,
   "id": "c744bd42-7165-401a-8118-18200ea47d9c",
   "metadata": {},
   "outputs": [
    {
     "name": "stdout",
     "output_type": "stream",
     "text": [
      "Sum of the first 10 natural numbers: 55\n",
      "Product of the first 10 natural numbers: 3628800\n"
     ]
    }
   ],
   "source": [
    "sum = 0\n",
    "product = 1\n",
    "for i in range(1, 11):\n",
    "    sum += i\n",
    "    product *= i\n",
    "\n",
    "print(\"Sum of the first 10 natural numbers:\", sum)\n",
    "print(\"Product of the first 10 natural numbers:\", product)\n"
   ]
  },
  {
   "cell_type": "markdown",
   "id": "c1a9b6bb-b590-4b15-aa3f-6faecad5e010",
   "metadata": {},
   "source": [
    "3:"
   ]
  },
  {
   "cell_type": "code",
   "execution_count": 5,
   "id": "d6be49ee-b232-4592-a872-5e1548be72a3",
   "metadata": {},
   "outputs": [
    {
     "name": "stdin",
     "output_type": "stream",
     "text": [
      "Enter the units of electricity consumed in a month:  120\n"
     ]
    },
    {
     "name": "stdout",
     "output_type": "stream",
     "text": [
      "Total electricity bill: Rs. 570.0\n"
     ]
    }
   ],
   "source": [
    "units = int(input(\"Enter the units of electricity consumed in a month: \"))\n",
    "\n",
    "if units <= 100:\n",
    "    bill = units * 4.5\n",
    "elif units <= 200:\n",
    "    bill = 100 * 4.5 + (units - 100) * 6\n",
    "elif units <= 300:\n",
    "    bill = 100 * 4.5 + 100 * 6 + (units - 200) * 10\n",
    "else:\n",
    "    bill = 100 * 4.5 + 100 * 6 + 100 * 10 + (units - 300) * 20\n",
    "\n",
    "print(\"Total electricity bill: Rs.\", bill)\n"
   ]
  },
  {
   "cell_type": "markdown",
   "id": "9e0c9ecb-69fb-42ff-8508-6482cb3d86ff",
   "metadata": {},
   "source": [
    "4:"
   ]
  },
  {
   "cell_type": "code",
   "execution_count": 6,
   "id": "8f558243-08db-46b6-a783-53d6d212aa08",
   "metadata": {},
   "outputs": [
    {
     "name": "stdout",
     "output_type": "stream",
     "text": [
      "The list of numbers whose cube is divisible by 4 or 5: [2, 4, 5, 6, 8, 10, 12, 14, 15, 16, 18, 20, 22, 24, 25, 26, 28, 30, 32, 34, 35, 36, 38, 40, 42, 44, 45, 46, 48, 50, 52, 54, 55, 56, 58, 60, 62, 64, 65, 66, 68, 70, 72, 74, 75, 76, 78, 80, 82, 84, 85, 86, 88, 90, 92, 94, 95, 96, 98, 100]\n"
     ]
    }
   ],
   "source": [
    "cube_list = []\n",
    "for i in range(1, 101):\n",
    "    cube = i**3\n",
    "    if cube % 4 == 0 or cube % 5 == 0:\n",
    "        cube_list.append(i)\n",
    "\n",
    "print(\"The list of numbers whose cube is divisible by 4 or 5:\", cube_list)\n"
   ]
  },
  {
   "cell_type": "markdown",
   "id": "78d56971-cf90-43af-975f-768c13cfd4bc",
   "metadata": {},
   "source": [
    "5:"
   ]
  },
  {
   "cell_type": "code",
   "execution_count": 7,
   "id": "abd46f0c-19f8-4d35-9614-fde12f2b16da",
   "metadata": {},
   "outputs": [
    {
     "name": "stdout",
     "output_type": "stream",
     "text": [
      "The number of vowels in the given string is: 12\n"
     ]
    }
   ],
   "source": [
    "string = \"I want to become a data scientist\"\n",
    "vowels = \"aeiouAEIOU\"\n",
    "vowel_count = 0\n",
    "\n",
    "for char in string:\n",
    "    if char in vowels:\n",
    "        vowel_count += 1\n",
    "\n",
    "print(\"The number of vowels in the given string is:\", vowel_count)\n"
   ]
  },
  {
   "cell_type": "code",
   "execution_count": null,
   "id": "82bb8bfa-46a3-45bf-b586-2513b28c01ac",
   "metadata": {},
   "outputs": [],
   "source": []
  }
 ],
 "metadata": {
  "kernelspec": {
   "display_name": "Python 3 (ipykernel)",
   "language": "python",
   "name": "python3"
  },
  "language_info": {
   "codemirror_mode": {
    "name": "ipython",
    "version": 3
   },
   "file_extension": ".py",
   "mimetype": "text/x-python",
   "name": "python",
   "nbconvert_exporter": "python",
   "pygments_lexer": "ipython3",
   "version": "3.10.8"
  }
 },
 "nbformat": 4,
 "nbformat_minor": 5
}
