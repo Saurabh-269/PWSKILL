{
 "cells": [
  {
   "cell_type": "markdown",
   "id": "dd1bdd9f-85bb-4310-9a59-c17a658de6b5",
   "metadata": {},
   "source": [
    "Q1"
   ]
  },
  {
   "cell_type": "markdown",
   "id": "8bd79a79-9229-45e7-bb91-898c284af271",
   "metadata": {},
   "source": [
    "A dataBase is an organised collection of data. There are various database managment software avalaible for Properly managing our data For example MYSQL etc.\n",
    "There is a difference between SQL(structured query language) and NOSQL(not only structured query language).SQL database are Relational database that store data in tables with predefined relation between them.There are  various databse managment software which are availaible for managing database for example Oracle,MYSQL.\n",
    "on the other hand NOSQL is no relational database it can store data in various format. it provide more flexibility to your database. NOSQL is generally used for those data which are very large in number"
   ]
  },
  {
   "cell_type": "markdown",
   "id": "cc710eaa-229d-4b00-9960-8ed5acc6a3ed",
   "metadata": {},
   "source": [
    "Q2"
   ]
  },
  {
   "cell_type": "markdown",
   "id": "d1b5638b-edb5-4d2a-a115-42331ced242b",
   "metadata": {},
   "source": [
    "The full form of DDL is data definition language. It is generally used for credating the structure of the database.It is used to create,modify,delete the data from the database.It contain various commands like CREATE ,DROP,ALTER and Truncate."
   ]
  },
  {
   "cell_type": "code",
   "execution_count": 2,
   "id": "addac641-5879-4878-affa-27a49beed87d",
   "metadata": {},
   "outputs": [],
   "source": [
    "#CREATE TABLE student(\n",
    "# name varchar(50),\n",
    "# rollno int,\n",
    "# library_id varchar(20)\n",
    "# );"
   ]
  },
  {
   "cell_type": "code",
   "execution_count": 3,
   "id": "81ed5b6a-a7e5-4de0-9954-2922fc629644",
   "metadata": {},
   "outputs": [],
   "source": [
    "#DROP TABLE student\n",
    "#it is used to drop the entire database"
   ]
  },
  {
   "cell_type": "code",
   "execution_count": 4,
   "id": "87b426b1-5353-4e52-806f-2e9930460699",
   "metadata": {},
   "outputs": [],
   "source": [
    "#ALTER TABLE student ADD emailid varchar(50)\n",
    "#It is used to Add a new attribute to your database"
   ]
  },
  {
   "cell_type": "code",
   "execution_count": 6,
   "id": "7796e986-c71a-4d57-b517-1a10881c9c1e",
   "metadata": {},
   "outputs": [],
   "source": [
    "#TRUNCATE TABLE student\n",
    "#we can use truncate to delete the entire row but the structure of the entire column will remain same,constraints remain same\n",
    "#There is a difference between truncate and drop , drop is used to drop the netire databae but truncate is used to drop the rows"
   ]
  },
  {
   "cell_type": "markdown",
   "id": "4466eb54-2f31-4273-843b-0275f967b3fe",
   "metadata": {},
   "source": [
    "Q3"
   ]
  },
  {
   "cell_type": "markdown",
   "id": "f82097ba-9843-49af-a380-e6c02bbd8134",
   "metadata": {},
   "source": [
    "DATA manipulation language is basically used to manipulate your database. we can use DML to insert,update,delete yor database."
   ]
  },
  {
   "cell_type": "code",
   "execution_count": 8,
   "id": "cc013e43-a764-47a8-aff4-5c5d3595e2c1",
   "metadata": {},
   "outputs": [],
   "source": [
    "#INSERT INTO student(name,rollno,emailid)VALUES('Saurabh',05,'saurabh.2024cs1064@kiet.edu')"
   ]
  },
  {
   "cell_type": "code",
   "execution_count": 9,
   "id": "6edce9de-b909-43e6-b6f8-a542ebf4370e",
   "metadata": {},
   "outputs": [],
   "source": [
    "#UPDATE student SET rollno=08 where name='Saurabh'"
   ]
  },
  {
   "cell_type": "markdown",
   "id": "c5bfde3c-1b35-4aad-8c55-fa27c4c508e5",
   "metadata": {},
   "source": [
    "Q4:"
   ]
  },
  {
   "cell_type": "markdown",
   "id": "f43cc626-c22b-4f17-b78f-cf82dcc9104c",
   "metadata": {},
   "source": [
    "DQL stands for Data query Language .It is used to retrieve data from the database. It contain \"SELECT\" as the its commands"
   ]
  },
  {
   "cell_type": "code",
   "execution_count": 14,
   "id": "2979fb90-83aa-4a9d-a720-112011e65e35",
   "metadata": {},
   "outputs": [],
   "source": [
    "#SELECT *FROM student\n",
    "#It is used to retrive all the rows and column from the database"
   ]
  },
  {
   "cell_type": "markdown",
   "id": "96c5d329-e0da-4126-8d29-0bfd64857778",
   "metadata": {},
   "source": [
    "Q5"
   ]
  },
  {
   "cell_type": "markdown",
   "id": "7b27400d-e92e-4444-91a8-81ae73d66ff9",
   "metadata": {},
   "source": [
    "In a relational database, a primary key is a unique identifier for each row in a table. It is used to ensure that each row is uniquely identifiable and can be referenced from other tables. A primary key is typically a column or a set of columns that is designated as the primary key for a table.\n",
    "\n",
    "For example, in a table named \"orders\", the \"order_id\" column could be designated as the primary key, ensuring that each order in the table has a unique identifier.\n",
    "\n",
    "A foreign key, on the other hand, is a column or a set of columns in one table that refers to the primary key of another table. It is used to establish a relationship between two tables, allowing data to be linked and queried across tables.\n",
    "\n",
    "For example, in a table named \"order_details\", the \"order_id\" column could be designated as a foreign key, linking the \"order_details\" table to the \"orders\" table. This allows data from both tables to be queried together, such as retrieving all order details for a specific order."
   ]
  },
  {
   "cell_type": "markdown",
   "id": "cc57556a-fa03-452c-87a3-736cd0cca871",
   "metadata": {},
   "source": [
    "Q6:"
   ]
  },
  {
   "cell_type": "code",
   "execution_count": 15,
   "id": "04527169-d04f-4922-ac1c-e3559929e97c",
   "metadata": {},
   "outputs": [],
   "source": [
    "# import mysql.connector\n",
    "\n",
    "# mydb = mysql.connector.connect(\n",
    "#   host=\"localhost\",\n",
    "#   user=\"username\",\n",
    "#   password=\"password\",\n",
    "#   database=\"databasename\"\n",
    "# )\n",
    "\n",
    "# mycursor = mydb.cursor()\n",
    "\n",
    "# mycursor.execute(\"SELECT * FROM customers\")\n",
    "\n",
    "# result = mycursor.fetchall()\n",
    "\n",
    "# for row in result:\n",
    "#   print(row)"
   ]
  },
  {
   "cell_type": "markdown",
   "id": "52033d7a-0648-4ff3-805b-e72b97b1613a",
   "metadata": {},
   "source": [
    "Q7"
   ]
  },
  {
   "cell_type": "markdown",
   "id": "89ce6d3e-f82c-4a2d-9987-3f80aa81ad5d",
   "metadata": {},
   "source": [
    "The order of execution of SQL clauses in an SQL query is as follows:\n",
    "\n",
    "FROM - specifies the table(s) to retrieve data from\n",
    "JOIN - combines data from multiple tables\n",
    "WHERE - filters the rows based on a specified condition\n",
    "GROUP BY - groups the rows based on a specified column\n",
    "HAVING - filters the groups based on a specified condition\n",
    "SELECT - selects the columns to retrieve data from\n",
    "DISTINCT - removes duplicates from the result set\n",
    "ORDER BY - sorts the result set based on a specified column or columns\n",
    "LIMIT - limits the number of rows returned by the query\n",
    "Note that not all clauses are required in every query and that the order of execution may vary depending on the specific query being executed.\n",
    "\n",
    "\n",
    "\n",
    "\n",
    "Regenerate resp"
   ]
  },
  {
   "cell_type": "code",
   "execution_count": null,
   "id": "14ab1627-34c9-4e68-8acd-2bbab711dd99",
   "metadata": {},
   "outputs": [],
   "source": []
  }
 ],
 "metadata": {
  "kernelspec": {
   "display_name": "Python 3 (ipykernel)",
   "language": "python",
   "name": "python3"
  },
  "language_info": {
   "codemirror_mode": {
    "name": "ipython",
    "version": 3
   },
   "file_extension": ".py",
   "mimetype": "text/x-python",
   "name": "python",
   "nbconvert_exporter": "python",
   "pygments_lexer": "ipython3",
   "version": "3.10.8"
  }
 },
 "nbformat": 4,
 "nbformat_minor": 5
}
