{
 "cells": [
  {
   "cell_type": "markdown",
   "id": "8c95c71a-edbe-4fb5-b2ef-c8c2d8d783d3",
   "metadata": {},
   "source": [
    "Q1"
   ]
  },
  {
   "cell_type": "markdown",
   "id": "cf86ecc9-7035-4cc4-b601-6d025c24db36",
   "metadata": {},
   "source": [
    "GET: It is the most common method to get the data from the server"
   ]
  },
  {
   "cell_type": "markdown",
   "id": "4bef3d9c-b7af-4fc8-8024-fe9912c059a1",
   "metadata": {},
   "source": [
    "POST:In this method we can access the information by the help of HTML form and the data recieved by POST method is not catched by the server"
   ]
  },
  {
   "cell_type": "markdown",
   "id": "24845f35-e55f-4d68-b068-1f00e0b847bf",
   "metadata": {},
   "source": [
    "Q2"
   ]
  },
  {
   "cell_type": "markdown",
   "id": "4c90c1dd-2e91-4bf1-b061-e074df3a4fd4",
   "metadata": {},
   "source": [
    "Request is used in flask when you have to access object.  it can hold all the incoming data from the request,which include IP adress,raw data,HTTP model"
   ]
  },
  {
   "cell_type": "markdown",
   "id": "669a68e9-574b-4952-897d-44f04fcf1f07",
   "metadata": {},
   "source": [
    "Q3"
   ]
  },
  {
   "cell_type": "markdown",
   "id": "b072ab34-bb74-49fc-a40f-d0a65c918c1f",
   "metadata": {},
   "source": [
    "Redirect is used when you have to redirect the particular request to a particular target "
   ]
  },
  {
   "cell_type": "markdown",
   "id": "5371a7e3-0142-4609-9c72-ed7965ea1fbf",
   "metadata": {},
   "source": [
    "flask.redirect(location,statuscode,response)"
   ]
  },
  {
   "cell_type": "markdown",
   "id": "03ec7dff-45cc-4b3a-9be7-9de7f886c21c",
   "metadata": {},
   "source": [
    "Q4"
   ]
  },
  {
   "cell_type": "markdown",
   "id": "23ef5d58-22e9-4236-90c1-02905571e680",
   "metadata": {},
   "source": [
    "In Flask, templates are HTML files that contain placeholders for dynamic content that needs to be generated dynamically based on data from the application. Flask uses a templating engine called Jinja2 to render templates.\n",
    "\n",
    "The render_template() function in Flask is used to render templates by filling in the placeholders with the appropriate data. It takes the name of the template file as its first argument and any additional arguments needed to populate the template placeholders."
   ]
  },
  {
   "cell_type": "code",
   "execution_count": null,
   "id": "06d2034e-2e6a-4737-832b-3323776fccb3",
   "metadata": {},
   "outputs": [],
   "source": []
  }
 ],
 "metadata": {
  "kernelspec": {
   "display_name": "Python 3 (ipykernel)",
   "language": "python",
   "name": "python3"
  },
  "language_info": {
   "codemirror_mode": {
    "name": "ipython",
    "version": 3
   },
   "file_extension": ".py",
   "mimetype": "text/x-python",
   "name": "python",
   "nbconvert_exporter": "python",
   "pygments_lexer": "ipython3",
   "version": "3.10.8"
  }
 },
 "nbformat": 4,
 "nbformat_minor": 5
}
