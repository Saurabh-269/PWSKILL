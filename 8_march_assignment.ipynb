{
 "cells": [
  {
   "cell_type": "markdown",
   "id": "e166dc63-16b3-4733-a67f-0ba023e1cfd8",
   "metadata": {},
   "source": [
    "Q1"
   ]
  },
  {
   "cell_type": "markdown",
   "id": "1b76fbd5-c858-42b0-98ec-78a8a1da8344",
   "metadata": {},
   "source": [
    "The probability density function (pdf) of a continuous random variable X is a function that describes the probability of X taking on a particular value"
   ]
  },
  {
   "cell_type": "markdown",
   "id": "260eb9ad-2b69-48eb-9ee5-4e2956e12261",
   "metadata": {},
   "source": [
    "Q2"
   ]
  },
  {
   "cell_type": "code",
   "execution_count": 1,
   "id": "5ed3ae26-a350-4bb5-9752-e24783b502c9",
   "metadata": {},
   "outputs": [],
   "source": [
    "#There are many different types of probability distributions, but some of the most common ones include:\n",
    "\n",
    "#Normal distribution\n",
    "#Binomial distribution\n",
    "#Poisson distribution\n",
    "#Exponential distribution\n",
    "#Uniform distribution"
   ]
  },
  {
   "cell_type": "markdown",
   "id": "c02b8346-48d7-49d6-82f7-120bba0b01e4",
   "metadata": {},
   "source": [
    "Q3"
   ]
  },
  {
   "cell_type": "code",
   "execution_count": 2,
   "id": "7139ec99-fdc9-4083-8959-b2c9b91f95d0",
   "metadata": {},
   "outputs": [],
   "source": [
    "def normal_pdf(x, mean, std):\n",
    "\n",
    "  return (1 / (np.sqrt(2 * np.pi * std**2))) * np.exp(-((x - mean)**2 / (2 * std**2)))\n"
   ]
  },
  {
   "cell_type": "markdown",
   "id": "0ce6cb63-c964-4f46-b590-98d1523112fc",
   "metadata": {},
   "source": [
    "Q4"
   ]
  },
  {
   "cell_type": "markdown",
   "id": "81c30aa1-8d43-4426-a61e-d18625d4162d",
   "metadata": {},
   "source": [
    "The binomial distribution is a probability distribution that describes the number of successes in a sequence of independent experiments. The experiments are called trials, and each trial has two possible outcomes, a success or a failure. The probability of success is denoted by p, and the probability of failure is denoted by q.\n",
    "\n",
    "The binomial distribution has the following properties:\n",
    "\n",
    "The number of trials is fixed.\n",
    "The trials are independent.\n",
    "The probability of success is constant for each trial."
   ]
  },
  {
   "cell_type": "markdown",
   "id": "1ca3c16c-b283-4158-b3b1-4ede67c0ed01",
   "metadata": {},
   "source": [
    "Q5"
   ]
  },
  {
   "cell_type": "code",
   "execution_count": 3,
   "id": "b75f88f8-66a7-4eb6-aeda-9521c9dee970",
   "metadata": {},
   "outputs": [
    {
     "data": {
      "image/png": "[encoded data removed]",
      "text/plain": [
       "<Figure size 640x480 with 1 Axes>"
      ]
     },
     "metadata": {},
     "output_type": "display_data"
    }
   ],
   "source": [
    "import numpy as np\n",
    "import matplotlib.pyplot as plt\n",
    "\n",
    "# Generate a random sample of size 1000 from a binomial distribution with probability of success 0.4\n",
    "samples = np.random.binomial(10, 0.4, 1000)\n",
    "\n",
    "# Plot a histogram of the results\n",
    "plt.hist(samples, bins=10)\n",
    "plt.show()"
   ]
  },
  {
   "cell_type": "markdown",
   "id": "f2b3b0eb-2a1f-4c12-8ba0-ee676a7ffc06",
   "metadata": {},
   "source": [
    "Q6"
   ]
  },
  {
   "cell_type": "code",
   "execution_count": 4,
   "id": "a48f97c3-ca75-4b25-a7f8-b7852f76e107",
   "metadata": {},
   "outputs": [],
   "source": [
    "def poisson_cdf(x, mean):\n",
    "  sum = 0\n",
    "  for i in range(x + 1):\n",
    "    sum += (np.exp(-mean) * mean**i) / factorial(i)\n",
    "\n",
    "  return sum"
   ]
  },
  {
   "cell_type": "markdown",
   "id": "1fce18d2-a628-47cf-8337-93829e62714b",
   "metadata": {},
   "source": [
    "Q7"
   ]
  },
  {
   "cell_type": "markdown",
   "id": "4c56bba0-7bd7-430f-8832-e13170aa7921",
   "metadata": {},
   "source": [
    "The main difference between the binomial distribution and the Poisson distribution is that the binomial distribution is a discrete distribution, while the Poisson distribution is a continuous distribution. This means that the binomial distribution can only take on integer values, while the Poisson distribution can take on any real value.\n",
    "\n",
    "Another difference between the two distributions is that the binomial distribution is used to model the number of successes in a sequence of independent experiments, while the Poisson distribution is used to model the number of events that occur in a fixed interval of time or spac"
   ]
  },
  {
   "cell_type": "markdown",
   "id": "9f7f3d73-3386-4592-a08a-de30c81cb3d8",
   "metadata": {},
   "source": [
    "Q8"
   ]
  },
  {
   "cell_type": "code",
   "execution_count": 5,
   "id": "e332b55b-b998-4458-a44c-3b20967417e3",
   "metadata": {},
   "outputs": [
    {
     "name": "stdout",
     "output_type": "stream",
     "text": [
      "Mean: 5.072\n",
      "Variance: 5.090816000000001\n"
     ]
    }
   ],
   "source": [
    "import numpy as np\n",
    "\n",
    "# Generate a random sample of size 1000 from a Poisson distribution with mean 5\n",
    "samples = np.random.poisson(5, 1000)\n",
    "\n",
    "# Calculate the sample mean and variance\n",
    "mean = np.mean(samples)\n",
    "variance = np.var(samples)\n",
    "\n",
    "print(\"Mean:\", mean)\n",
    "print(\"Variance:\", variance)"
   ]
  },
  {
   "cell_type": "code",
   "execution_count": null,
   "id": "5697971c-5297-4074-a09e-98bd17ccfa4f",
   "metadata": {},
   "outputs": [],
   "source": []
  }
 ],
 "metadata": {
  "kernelspec": {
   "display_name": "Python 3 (ipykernel)",
   "language": "python",
   "name": "python3"
  },
  "language_info": {
   "codemirror_mode": {
    "name": "ipython",
    "version": 3
   },
   "file_extension": ".py",
   "mimetype": "text/x-python",
   "name": "python",
   "nbconvert_exporter": "python",
   "pygments_lexer": "ipython3",
   "version": "3.10.8"
  }
 },
 "nbformat": 4,
 "nbformat_minor": 5
}
