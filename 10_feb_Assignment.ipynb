{
 "cells": [
  {
   "cell_type": "markdown",
   "id": "a35257c9-9f23-4fa4-b486-5112ca97390a",
   "metadata": {},
   "source": [
    "Q1. The open() function is used to open a file in Python. It takes two arguments: the name of the file to be opened and the mode in which the file is to be opened. There are several modes of file opening in Python:\n",
    "\n",
    "r: Opens the file for reading. The file pointer is placed at the beginning of the file.\n",
    "w: Opens the file for writing. If the file already exists, it is truncated to zero length. If the file does not exist, it is created.\n",
    "a: Opens the file for appending. The file pointer is placed at the end of the file. If the file does not exist, it is created.\n",
    "x: Opens the file for exclusive creation. If the file already exists, the operation fails.\n",
    "b: Binary mode. This is used to read or write files in binary mode.\n",
    "t: Text mode. This is used to read or write files in text mode (default)."
   ]
  },
  {
   "cell_type": "markdown",
   "id": "714be147-7d63-4f86-9e49-ba4901961cf5",
   "metadata": {},
   "source": [
    "Q2. The close() function is used to close a file in Python. It is important to close a file because it releases the resources that were allocated when the file was opened. Failure to close a file can lead to data corruption or other errors."
   ]
  },
  {
   "cell_type": "markdown",
   "id": "0e7e89af-bfa6-41c7-a221-09fafcea9b12",
   "metadata": {},
   "source": [
    "Q3. Here is a Python program to create a text file, write some text to it, close the file, and then read the contents of the file:"
   ]
  },
  {
   "cell_type": "code",
   "execution_count": 1,
   "id": "db605b7b-f62b-43a4-889e-1faecc6a6cf9",
   "metadata": {},
   "outputs": [
    {
     "name": "stdout",
     "output_type": "stream",
     "text": [
      "I want to become a Data Scientist\n"
     ]
    }
   ],
   "source": [
    "# Open a file for writing\n",
    "file = open(\"data.txt\", \"w\")\n",
    "\n",
    "# Write some text to the file\n",
    "file.write(\"I want to become a Data Scientist\")\n",
    "\n",
    "# Close the file\n",
    "file.close()\n",
    "\n",
    "# Open the file for reading\n",
    "file = open(\"data.txt\", \"r\")\n",
    "\n",
    "# Read the contents of the file\n",
    "contents = file.read()\n",
    "\n",
    "# Close the file\n",
    "file.close()\n",
    "\n",
    "# Print the contents of the file\n",
    "print(contents)\n"
   ]
  },
  {
   "cell_type": "markdown",
   "id": "217b1c93-6153-407f-b1b6-ab52835ec80d",
   "metadata": {},
   "source": [
    "Q4. The read() function is used to read the entire contents of a file. The readline() function is used to read a single line from a file. The readlines() function is used to read all the lines from a file and return them as a list.\n",
    "\n",
    "Here is an example of using these functions:"
   ]
  },
  {
   "cell_type": "code",
   "execution_count": 2,
   "id": "9a45d8ee-5d58-4f3e-b1c0-b876da7c4e66",
   "metadata": {},
   "outputs": [
    {
     "name": "stdout",
     "output_type": "stream",
     "text": [
      "I want to become a Data Scientist\n",
      "\n",
      "[]\n"
     ]
    }
   ],
   "source": [
    "# Open a file for reading\n",
    "file = open(\"data.txt\", \"r\")\n",
    "\n",
    "# Read the entire contents of the file\n",
    "contents = file.read()\n",
    "\n",
    "# Read the first line of the file\n",
    "line1 = file.readline()\n",
    "\n",
    "# Read all the lines of the file\n",
    "lines = file.readlines()\n",
    "\n",
    "# Close the file\n",
    "file.close()\n",
    "\n",
    "# Print the contents of the file\n",
    "print(contents)\n",
    "\n",
    "# Print the first line of the file\n",
    "print(line1)\n",
    "\n",
    "# Print all the lines of the file\n",
    "print(lines)\n"
   ]
  },
  {
   "cell_type": "code",
   "execution_count": null,
   "id": "a4735b36-6f7b-44d9-bd8d-b89d86662ba8",
   "metadata": {},
   "outputs": [],
   "source": []
  }
 ],
 "metadata": {
  "kernelspec": {
   "display_name": "Python 3 (ipykernel)",
   "language": "python",
   "name": "python3"
  },
  "language_info": {
   "codemirror_mode": {
    "name": "ipython",
    "version": 3
   },
   "file_extension": ".py",
   "mimetype": "text/x-python",
   "name": "python",
   "nbconvert_exporter": "python",
   "pygments_lexer": "ipython3",
   "version": "3.10.8"
  }
 },
 "nbformat": 4,
 "nbformat_minor": 5
}
