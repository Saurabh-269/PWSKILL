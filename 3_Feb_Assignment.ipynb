{
 "cells": [
  {
   "cell_type": "markdown",
   "id": "a129a23f-176d-43d7-b5b1-fe6cdbba08c2",
   "metadata": {},
   "source": [
    "1 : "
   ]
  },
  {
   "cell_type": "markdown",
   "id": "3a3c1b94-d273-41e2-8fda-5aff20d14fc6",
   "metadata": {},
   "source": [
    "def"
   ]
  },
  {
   "cell_type": "code",
   "execution_count": 1,
   "id": "a1f6dfaa-23ed-42b8-a9f6-2b0959255981",
   "metadata": {},
   "outputs": [],
   "source": [
    "l=[]\n",
    "def odd():\n",
    "     for i in range(1,26):\n",
    "             if(i%2!=0):\n",
    "                     l.append(i)\n",
    "     return l  "
   ]
  },
  {
   "cell_type": "code",
   "execution_count": 2,
   "id": "fa91d600-31f6-447a-b1fe-be1a7f92df7d",
   "metadata": {},
   "outputs": [
    {
     "data": {
      "text/plain": [
       "[1, 3, 5, 7, 9, 11, 13, 15, 17, 19, 21, 23, 25]"
      ]
     },
     "execution_count": 2,
     "metadata": {},
     "output_type": "execute_result"
    }
   ],
   "source": [
    "odd()"
   ]
  },
  {
   "cell_type": "markdown",
   "id": "ced72320-f9bd-4337-8375-1bf5a091d26a",
   "metadata": {},
   "source": [
    "2:"
   ]
  },
  {
   "cell_type": "markdown",
   "id": "9e685edb-93e3-4a46-a0a5-9bb005c71526",
   "metadata": {},
   "source": [
    " *args is used is used to take any number of input from the u"
   ]
  },
  {
   "cell_type": "markdown",
   "id": "1964721d-b9c8-4315-93ff-ca1b4951a4b8",
   "metadata": {},
   "source": [
    "**kwargs is used in some functions to take any number of input in the form of key value pair"
   ]
  },
  {
   "cell_type": "code",
   "execution_count": 3,
   "id": "a2b11654-7f0a-4cfb-b7fc-87ead483c3b5",
   "metadata": {},
   "outputs": [],
   "source": [
    "def first(*x):\n",
    "    return x"
   ]
  },
  {
   "cell_type": "code",
   "execution_count": 4,
   "id": "f50c0bbc-d7bb-4dfd-aa5b-3862b195469f",
   "metadata": {},
   "outputs": [
    {
     "data": {
      "text/plain": [
       "(1, 2, 3, 4, 5)"
      ]
     },
     "execution_count": 4,
     "metadata": {},
     "output_type": "execute_result"
    }
   ],
   "source": [
    "first(1,2,3,4,5)"
   ]
  },
  {
   "cell_type": "code",
   "execution_count": 5,
   "id": "da6b69b5-60e3-45cd-9bfb-25ef0c0521cc",
   "metadata": {},
   "outputs": [],
   "source": [
    "def second(**x):\n",
    "    return x"
   ]
  },
  {
   "cell_type": "code",
   "execution_count": 6,
   "id": "b02e4aeb-d354-41a3-ad93-3bb29863e0db",
   "metadata": {},
   "outputs": [
    {
     "data": {
      "text/plain": [
       "{'a': 122, 'b': 21, 'c': 23}"
      ]
     },
     "execution_count": 6,
     "metadata": {},
     "output_type": "execute_result"
    }
   ],
   "source": [
    "second(a=122,b=21,c=23)"
   ]
  },
  {
   "cell_type": "markdown",
   "id": "30dce499-387a-46f9-a9f6-78823841e527",
   "metadata": {},
   "source": [
    "4:"
   ]
  },
  {
   "cell_type": "markdown",
   "id": "b34b090e-86ef-44a7-9e06-2a64c527dc63",
   "metadata": {},
   "source": [
    "Generator function in python are those function which reduces the space usage in your program \n",
    "we can also identify generator function if it is using yield "
   ]
  },
  {
   "cell_type": "markdown",
   "id": "ffc7ff2b-3a75-487b-8bd2-9ac2ed10b8ef",
   "metadata": {},
   "source": [
    "we use yield function because it gives you output at run time"
   ]
  },
  {
   "cell_type": "code",
   "execution_count": 7,
   "id": "edb506f4-4055-4de7-bbeb-bf0167220064",
   "metadata": {},
   "outputs": [],
   "source": [
    "def num(x):\n",
    "    count=1\n",
    "    while count<x:\n",
    "        yield(2*count)\n",
    "        count=count+1   "
   ]
  },
  {
   "cell_type": "code",
   "execution_count": 8,
   "id": "80c8b8e4-1fad-438e-a04d-00f6c7c2b42b",
   "metadata": {},
   "outputs": [
    {
     "data": {
      "text/plain": [
       "<generator object num at 0x7fc039af9850>"
      ]
     },
     "execution_count": 8,
     "metadata": {},
     "output_type": "execute_result"
    }
   ],
   "source": [
    "num(10)"
   ]
  },
  {
   "cell_type": "code",
   "execution_count": 9,
   "id": "3c0338d6-30e6-4ecc-a365-90c5a039a276",
   "metadata": {},
   "outputs": [
    {
     "name": "stdout",
     "output_type": "stream",
     "text": [
      "2\n",
      "4\n",
      "6\n",
      "8\n",
      "10\n",
      "12\n",
      "14\n",
      "16\n",
      "18\n"
     ]
    }
   ],
   "source": [
    "for i in num(10):\n",
    "    print(i)"
   ]
  },
  {
   "cell_type": "markdown",
   "id": "4ad8b814-4ab5-44a5-a80f-15f96d02b9db",
   "metadata": {},
   "source": [
    "6:"
   ]
  },
  {
   "cell_type": "code",
   "execution_count": 10,
   "id": "e8383216-1da5-470b-9167-ba3c005f13d3",
   "metadata": {},
   "outputs": [
    {
     "name": "stdout",
     "output_type": "stream",
     "text": [
      "0\n",
      "1\n",
      "1\n",
      "2\n",
      "3\n",
      "5\n",
      "8\n",
      "13\n",
      "21\n",
      "34\n"
     ]
    }
   ],
   "source": [
    "a, b = 0, 1\n",
    "count = 0\n",
    "\n",
    "while count < 10:\n",
    "    print(a)\n",
    "    c = a + b\n",
    "    a = b\n",
    "    b = c\n",
    "    count += 1\n"
   ]
  },
  {
   "cell_type": "markdown",
   "id": "26a77d94-334b-41ab-a39a-355e863223c3",
   "metadata": {},
   "source": [
    "7:"
   ]
  },
  {
   "cell_type": "code",
   "execution_count": 11,
   "id": "02821e45-2060-4e50-b960-4ac1625fb8eb",
   "metadata": {},
   "outputs": [
    {
     "name": "stdout",
     "output_type": "stream",
     "text": [
      "['p', 'w', 's', 'k', 'i', 'l', 'l', 's']\n"
     ]
    }
   ],
   "source": [
    "string = 'pwskills'\n",
    "result = [char for char in string if char in 'pwskils']\n",
    "print(result)\n"
   ]
  },
  {
   "cell_type": "markdown",
   "id": "3374522e-63a6-4e78-bb00-76ce9c9ca686",
   "metadata": {},
   "source": [
    "8:"
   ]
  },
  {
   "cell_type": "code",
   "execution_count": 22,
   "id": "71bd1a43-5657-4fb0-83e7-4072cc15a624",
   "metadata": {},
   "outputs": [
    {
     "name": "stdin",
     "output_type": "stream",
     "text": [
      "Enter the number 16461\n"
     ]
    },
    {
     "name": "stdout",
     "output_type": "stream",
     "text": [
      "PALLINDROME\n"
     ]
    }
   ],
   "source": [
    "nu=input(\"Enter the number\")\n",
    "temp=len(nu)\n",
    "i=0\n",
    "flag=0\n",
    "while i<=int((temp/2)):\n",
    "    if(nu[i]!=nu[temp-1-i]):\n",
    "        print(\"NOT A PALLINDROME\")\n",
    "        flag=-1\n",
    "        break\n",
    "    i=i+1\n",
    "if(flag!=-1):\n",
    "    print(\"PALLINDROME\")"
   ]
  },
  {
   "cell_type": "code",
   "execution_count": null,
   "id": "ad6a02b6-e662-44d3-b40e-d75339f2581d",
   "metadata": {},
   "outputs": [],
   "source": []
  }
 ],
 "metadata": {
  "kernelspec": {
   "display_name": "Python 3 (ipykernel)",
   "language": "python",
   "name": "python3"
  },
  "language_info": {
   "codemirror_mode": {
    "name": "ipython",
    "version": 3
   },
   "file_extension": ".py",
   "mimetype": "text/x-python",
   "name": "python",
   "nbconvert_exporter": "python",
   "pygments_lexer": "ipython3",
   "version": "3.10.8"
  }
 },
 "nbformat": 4,
 "nbformat_minor": 5
}
