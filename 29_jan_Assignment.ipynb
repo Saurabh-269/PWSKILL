{
 "cells": [
  {
   "cell_type": "markdown",
   "id": "4bd821c3-6248-42e5-836f-612fe7cd6af7",
   "metadata": {},
   "source": [
    "1: Who developed Python Programming Language? "
   ]
  },
  {
   "cell_type": "markdown",
   "id": "d7e2fd2e-0f2c-48b6-b783-a93da93ccd1f",
   "metadata": {},
   "source": [
    "Guido van Rossum"
   ]
  },
  {
   "cell_type": "markdown",
   "id": "8d48d439-b3dd-48fe-9cf8-891eafa9f391",
   "metadata": {},
   "source": [
    "2: Which type of Programming does Python support? "
   ]
  },
  {
   "cell_type": "markdown",
   "id": "b16a8645-72c1-4964-a109-f9bddb07099e",
   "metadata": {},
   "source": [
    "Object-oriented programming and structured programming are fully supported, "
   ]
  },
  {
   "cell_type": "markdown",
   "id": "3837a803-287b-4350-bd4b-917a194480b5",
   "metadata": {},
   "source": [
    "3:Is Python case sensitive when dealing with identifiers? "
   ]
  },
  {
   "cell_type": "markdown",
   "id": "14b3f964-109e-4f6b-b4a7-b5c0e29c1fbd",
   "metadata": {},
   "source": [
    "Yes, Python is a case-sensitive language"
   ]
  },
  {
   "cell_type": "markdown",
   "id": "9ef8eb52-f2c6-4292-a5a7-f0981c1817b3",
   "metadata": {},
   "source": [
    "4: What is the correct extension of the Python file? "
   ]
  },
  {
   "cell_type": "markdown",
   "id": "ebb96c44-df7b-45d0-aad0-43a13d68a22e",
   "metadata": {},
   "source": [
    ".py"
   ]
  },
  {
   "cell_type": "markdown",
   "id": "b28b34d3-a072-4406-b696-f10ea9d532a0",
   "metadata": {},
   "source": [
    "5: Is Python code compiled or interpreted? "
   ]
  },
  {
   "cell_type": "markdown",
   "id": "ccf9a45f-0417-4724-8d79-c7326d4836e0",
   "metadata": {},
   "source": [
    "Python is an interpreted language"
   ]
  },
  {
   "cell_type": "markdown",
   "id": "d496f0ab-68c0-4695-b9dc-4d9f3ee531a5",
   "metadata": {},
   "source": [
    "8: Mention functions which can help us to find the version of python that we are currently working on? "
   ]
  },
  {
   "cell_type": "markdown",
   "id": "4eda72ae-448b-4d1c-8c2f-cf5ce84be6c9",
   "metadata": {},
   "source": [
    "The function sys. version can help us to find the version of python that we are currently working on."
   ]
  },
  {
   "cell_type": "markdown",
   "id": "74096c7c-f1be-43c0-b9bf-db4f2fb9fa3c",
   "metadata": {},
   "source": [
    "10. What does pip stand for python? "
   ]
  },
  {
   "cell_type": "markdown",
   "id": "ca90cf74-7cb2-4f8b-a9cf-d367549ca3a3",
   "metadata": {},
   "source": [
    "Preferred Installer Program"
   ]
  },
  {
   "cell_type": "markdown",
   "id": "4b1c2db1-1a06-4a6e-afc5-8fb699f3f317",
   "metadata": {},
   "source": [
    " 12 :What is the maximum possible length of an identifier in Python? "
   ]
  },
  {
   "cell_type": "code",
   "execution_count": null,
   "id": "591a6ffa-6cbe-4baa-a647-bf1369d7cd89",
   "metadata": {},
   "outputs": [],
   "source": []
  }
 ],
 "metadata": {
  "kernelspec": {
   "display_name": "Python 3 (ipykernel)",
   "language": "python",
   "name": "python3"
  },
  "language_info": {
   "codemirror_mode": {
    "name": "ipython",
    "version": 3
   },
   "file_extension": ".py",
   "mimetype": "text/x-python",
   "name": "python",
   "nbconvert_exporter": "python",
   "pygments_lexer": "ipython3",
   "version": "3.10.8"
  }
 },
 "nbformat": 4,
 "nbformat_minor": 5
}
