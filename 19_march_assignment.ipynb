{
 "cells": [
  {
   "cell_type": "markdown",
   "id": "2df7a170-6a2c-45a7-a202-ce1486ca066e",
   "metadata": {},
   "source": [
    "#### Q1"
   ]
  },
  {
   "cell_type": "markdown",
   "id": "db021aab-5397-4eb2-9de0-bd0f21c80bd6",
   "metadata": {},
   "source": [
    " Min-Max scaling is a technique for normalizing the range of values in a dataset. It is often used in data preprocessing to ensure that all features have a similar scale, which can improve the performance of machine learning algorithms. Min-Max scaling works by subtracting the minimum value from each value in the dataset and then dividing by the difference between the maximum and minimum values. This ensures that all values in the dataset lie between 0 and 1.\n",
    "\n",
    "For example, let's say we have a dataset of house prices. The minimum price is $100,000 and the maximum price is $1,000,000. After Min-Max scaling, all house prices will lie between 0 and 1. A house that is worth $200,000 would be scaled to 0.2, and a house that is worth $500,000 would be scaled to 0.5."
   ]
  },
  {
   "cell_type": "markdown",
   "id": "e62a150f-00e6-4980-9d28-f73cca958076",
   "metadata": {},
   "source": [
    "#### Q2"
   ]
  },
  {
   "cell_type": "markdown",
   "id": "95c5deee-cda0-453a-9bad-ee76fd0a71de",
   "metadata": {},
   "source": [
    "The Unit Vector technique is another way of normalizing the range of values in a dataset. It works by dividing each value in the dataset by its standard deviation. This ensures that all values in the dataset have a unit standard deviation.\n",
    "\n",
    "For example, let's say we have a dataset of student grades. The standard deviation of the grades is 10. After Unit Vector scaling, all student grades will have a standard deviation of 1. A student who gets an A (90%) would be scaled to 9, and a student who gets a C (70%) would be scaled to 7."
   ]
  },
  {
   "cell_type": "markdown",
   "id": "c3269262-f0da-4945-88d8-e273880d4525",
   "metadata": {},
   "source": [
    "#### Q3"
   ]
  },
  {
   "cell_type": "markdown",
   "id": "79e877be-6181-423e-a697-e3b445762892",
   "metadata": {},
   "source": [
    "PCA (Principle Component Analysis) is a dimensionality reduction technique that is used to reduce the number of features in a dataset. PCA works by finding a set of orthogonal directions (called principal components) that capture the most variance in the data. The number of principal components that are retained is determined by the user.\n",
    "\n",
    "For example, let's say we have a dataset of images of faces. The dataset contains 100 features, each of which represents a pixel value in the image. PCA could be used to reduce the dimensionality of the dataset to 20 principal components. This would mean that each image would be represented by a vector of 20 numbers."
   ]
  },
  {
   "cell_type": "markdown",
   "id": "2c2d3723-4330-46f3-89c5-dcd12ddbf096",
   "metadata": {},
   "source": [
    "#### Q4"
   ]
  },
  {
   "cell_type": "markdown",
   "id": "b5c5f141-9cd8-43a6-b518-b1eb22446482",
   "metadata": {},
   "source": [
    ". PCA and Feature Extraction are related concepts. PCA can be used for Feature Extraction by retaining only the most important principal components. The most important principal components are those that capture the most variance in the data.\n",
    "\n",
    "For example, let's say we have a dataset of customer purchase data. The dataset contains 100 features, each of which represents a product that the customer has purchased. PCA could be used to reduce the dimensionality of the dataset to 20 principal components. These 20 principal components could then be used to create a new feature vector for each customer. This new feature vector could then be used to train a machine learning model to predict customer behavior."
   ]
  },
  {
   "cell_type": "markdown",
   "id": "ead4a886-1b79-4561-973a-dcc131f77833",
   "metadata": {},
   "source": [
    "#### Q5"
   ]
  },
  {
   "cell_type": "markdown",
   "id": "65af1818-fb46-46a1-9e09-9e1827647e12",
   "metadata": {},
   "source": [
    " In the case of the food delivery service, Min-Max scaling could be used to normalize the price, rating, and delivery time features. This would ensure that all of the features have a similar scale, which could improve the performance of machine learning algorithms used to build a recommendation system.\n",
    "\n",
    "For example, let's say the price of a meal ranges from $10 to $100, the rating ranges from 1 to 5, and the delivery time ranges from 15 minutes to 60 minutes. After Min-Max scaling, the price would be scaled to a range of 0 to 1, the rating would be scaled to a range of 0 to 1, and the delivery time would be scaled to a range of 0 to 1."
   ]
  },
  {
   "cell_type": "markdown",
   "id": "0f2bf165-78e4-4d14-ad74-752106cc98ea",
   "metadata": {},
   "source": [
    "#### Q7"
   ]
  },
  {
   "cell_type": "code",
   "execution_count": 1,
   "id": "d7e0e2aa-c6ec-43a5-814c-ace980e5242b",
   "metadata": {},
   "outputs": [],
   "source": [
    "import numpy as np\n",
    "import pandas as pd\n"
   ]
  },
  {
   "cell_type": "code",
   "execution_count": 10,
   "id": "e1a08a7e-0c35-4e16-aa14-909ea0c3c4d8",
   "metadata": {},
   "outputs": [],
   "source": [
    "df=pd.DataFrame([1,5,10,15,20],columns=['Number'])"
   ]
  },
  {
   "cell_type": "code",
   "execution_count": 11,
   "id": "ac6ae07f-7b4c-41a7-b261-2152453ff2f9",
   "metadata": {},
   "outputs": [
    {
     "data": {
      "text/html": [
       "<div>\n",
       "<style scoped>\n",
       "    .dataframe tbody tr th:only-of-type {\n",
       "        vertical-align: middle;\n",
       "    }\n",
       "\n",
       "    .dataframe tbody tr th {\n",
       "        vertical-align: top;\n",
       "    }\n",
       "\n",
       "    .dataframe thead th {\n",
       "        text-align: right;\n",
       "    }\n",
       "</style>\n",
       "<table border=\"1\" class=\"dataframe\">\n",
       "  <thead>\n",
       "    <tr style=\"text-align: right;\">\n",
       "      <th></th>\n",
       "      <th>Number</th>\n",
       "    </tr>\n",
       "  </thead>\n",
       "  <tbody>\n",
       "    <tr>\n",
       "      <th>0</th>\n",
       "      <td>1</td>\n",
       "    </tr>\n",
       "    <tr>\n",
       "      <th>1</th>\n",
       "      <td>5</td>\n",
       "    </tr>\n",
       "    <tr>\n",
       "      <th>2</th>\n",
       "      <td>10</td>\n",
       "    </tr>\n",
       "    <tr>\n",
       "      <th>3</th>\n",
       "      <td>15</td>\n",
       "    </tr>\n",
       "    <tr>\n",
       "      <th>4</th>\n",
       "      <td>20</td>\n",
       "    </tr>\n",
       "  </tbody>\n",
       "</table>\n",
       "</div>"
      ],
      "text/plain": [
       "   Number\n",
       "0       1\n",
       "1       5\n",
       "2      10\n",
       "3      15\n",
       "4      20"
      ]
     },
     "execution_count": 11,
     "metadata": {},
     "output_type": "execute_result"
    }
   ],
   "source": [
    "df"
   ]
  },
  {
   "cell_type": "code",
   "execution_count": 3,
   "id": "9d27847f-99db-4bba-bb7b-b75bd0036261",
   "metadata": {},
   "outputs": [],
   "source": [
    "from sklearn.preprocessing import MinMaxScaler"
   ]
  },
  {
   "cell_type": "code",
   "execution_count": 4,
   "id": "876ff7be-f5cc-44fe-bda7-e13fa0723672",
   "metadata": {},
   "outputs": [],
   "source": [
    "min_max=MinMaxScaler()"
   ]
  },
  {
   "cell_type": "code",
   "execution_count": 7,
   "id": "8e1d613e-0fa9-496d-ae6a-f907fbdb65f0",
   "metadata": {},
   "outputs": [
    {
     "data": {
      "text/html": [
       "<style>#sk-container-id-2 {color: black;background-color: white;}#sk-container-id-2 pre{padding: 0;}#sk-container-id-2 div.sk-toggleable {background-color: white;}#sk-container-id-2 label.sk-toggleable__label {cursor: pointer;display: block;width: 100%;margin-bottom: 0;padding: 0.3em;box-sizing: border-box;text-align: center;}#sk-container-id-2 label.sk-toggleable__label-arrow:before {content: \"▸\";float: left;margin-right: 0.25em;color: #696969;}#sk-container-id-2 label.sk-toggleable__label-arrow:hover:before {color: black;}#sk-container-id-2 div.sk-estimator:hover label.sk-toggleable__label-arrow:before {color: black;}#sk-container-id-2 div.sk-toggleable__content {max-height: 0;max-width: 0;overflow: hidden;text-align: left;background-color: #f0f8ff;}#sk-container-id-2 div.sk-toggleable__content pre {margin: 0.2em;color: black;border-radius: 0.25em;background-color: #f0f8ff;}#sk-container-id-2 input.sk-toggleable__control:checked~div.sk-toggleable__content {max-height: 200px;max-width: 100%;overflow: auto;}#sk-container-id-2 input.sk-toggleable__control:checked~label.sk-toggleable__label-arrow:before {content: \"▾\";}#sk-container-id-2 div.sk-estimator input.sk-toggleable__control:checked~label.sk-toggleable__label {background-color: #d4ebff;}#sk-container-id-2 div.sk-label input.sk-toggleable__control:checked~label.sk-toggleable__label {background-color: #d4ebff;}#sk-container-id-2 input.sk-hidden--visually {border: 0;clip: rect(1px 1px 1px 1px);clip: rect(1px, 1px, 1px, 1px);height: 1px;margin: -1px;overflow: hidden;padding: 0;position: absolute;width: 1px;}#sk-container-id-2 div.sk-estimator {font-family: monospace;background-color: #f0f8ff;border: 1px dotted black;border-radius: 0.25em;box-sizing: border-box;margin-bottom: 0.5em;}#sk-container-id-2 div.sk-estimator:hover {background-color: #d4ebff;}#sk-container-id-2 div.sk-parallel-item::after {content: \"\";width: 100%;border-bottom: 1px solid gray;flex-grow: 1;}#sk-container-id-2 div.sk-label:hover label.sk-toggleable__label {background-color: #d4ebff;}#sk-container-id-2 div.sk-serial::before {content: \"\";position: absolute;border-left: 1px solid gray;box-sizing: border-box;top: 0;bottom: 0;left: 50%;z-index: 0;}#sk-container-id-2 div.sk-serial {display: flex;flex-direction: column;align-items: center;background-color: white;padding-right: 0.2em;padding-left: 0.2em;position: relative;}#sk-container-id-2 div.sk-item {position: relative;z-index: 1;}#sk-container-id-2 div.sk-parallel {display: flex;align-items: stretch;justify-content: center;background-color: white;position: relative;}#sk-container-id-2 div.sk-item::before, #sk-container-id-2 div.sk-parallel-item::before {content: \"\";position: absolute;border-left: 1px solid gray;box-sizing: border-box;top: 0;bottom: 0;left: 50%;z-index: -1;}#sk-container-id-2 div.sk-parallel-item {display: flex;flex-direction: column;z-index: 1;position: relative;background-color: white;}#sk-container-id-2 div.sk-parallel-item:first-child::after {align-self: flex-end;width: 50%;}#sk-container-id-2 div.sk-parallel-item:last-child::after {align-self: flex-start;width: 50%;}#sk-container-id-2 div.sk-parallel-item:only-child::after {width: 0;}#sk-container-id-2 div.sk-dashed-wrapped {border: 1px dashed gray;margin: 0 0.4em 0.5em 0.4em;box-sizing: border-box;padding-bottom: 0.4em;background-color: white;}#sk-container-id-2 div.sk-label label {font-family: monospace;font-weight: bold;display: inline-block;line-height: 1.2em;}#sk-container-id-2 div.sk-label-container {text-align: center;}#sk-container-id-2 div.sk-container {/* jupyter's `normalize.less` sets `[hidden] { display: none; }` but bootstrap.min.css set `[hidden] { display: none !important; }` so we also need the `!important` here to be able to override the default hidden behavior on the sphinx rendered scikit-learn.org. See: https://github.com/scikit-learn/scikit-learn/issues/21755 */display: inline-block !important;position: relative;}#sk-container-id-2 div.sk-text-repr-fallback {display: none;}</style><div id=\"sk-container-id-2\" class=\"sk-top-container\"><div class=\"sk-text-repr-fallback\"><pre>MinMaxScaler()</pre><b>In a Jupyter environment, please rerun this cell to show the HTML representation or trust the notebook. <br />On GitHub, the HTML representation is unable to render, please try loading this page with nbviewer.org.</b></div><div class=\"sk-container\" hidden><div class=\"sk-item\"><div class=\"sk-estimator sk-toggleable\"><input class=\"sk-toggleable__control sk-hidden--visually\" id=\"sk-estimator-id-2\" type=\"checkbox\" checked><label for=\"sk-estimator-id-2\" class=\"sk-toggleable__label sk-toggleable__label-arrow\">MinMaxScaler</label><div class=\"sk-toggleable__content\"><pre>MinMaxScaler()</pre></div></div></div></div></div>"
      ],
      "text/plain": [
       "MinMaxScaler()"
      ]
     },
     "execution_count": 7,
     "metadata": {},
     "output_type": "execute_result"
    }
   ],
   "source": [
    "min_max.fit([[1,5,10,15,20,67]])"
   ]
  },
  {
   "cell_type": "code",
   "execution_count": 8,
   "id": "cedae14c-927f-4002-9a05-2c73a692c4d3",
   "metadata": {},
   "outputs": [
    {
     "data": {
      "text/plain": [
       "array([[0., 0., 0., 0., 0., 0.]])"
      ]
     },
     "execution_count": 8,
     "metadata": {},
     "output_type": "execute_result"
    }
   ],
   "source": [
    "min_max.transform([[1,5,)"
   ]
  },
  {
   "cell_type": "code",
   "execution_count": null,
   "id": "a044a547-c117-46d3-a7c8-51324a81dc6c",
   "metadata": {},
   "outputs": [],
   "source": []
  }
 ],
 "metadata": {
  "kernelspec": {
   "display_name": "Python 3 (ipykernel)",
   "language": "python",
   "name": "python3"
  },
  "language_info": {
   "codemirror_mode": {
    "name": "ipython",
    "version": 3
   },
   "file_extension": ".py",
   "mimetype": "text/x-python",
   "name": "python",
   "nbconvert_exporter": "python",
   "pygments_lexer": "ipython3",
   "version": "3.10.8"
  }
 },
 "nbformat": 4,
 "nbformat_minor": 5
}
