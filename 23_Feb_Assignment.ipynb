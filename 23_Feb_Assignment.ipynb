{
 "cells": [
  {
   "cell_type": "markdown",
   "id": "2182bee9-518c-49ff-a13d-4bed17155bbe",
   "metadata": {},
   "source": [
    "Q1"
   ]
  },
  {
   "cell_type": "code",
   "execution_count": 1,
   "id": "2c3d2d68-73ec-4625-8bd7-0586c1c522aa",
   "metadata": {},
   "outputs": [],
   "source": [
    "import pandas as pd"
   ]
  },
  {
   "cell_type": "code",
   "execution_count": 2,
   "id": "806752b2-b3b8-4921-ab66-3ae70a1776ce",
   "metadata": {},
   "outputs": [],
   "source": [
    "df=[4, 8, 15, 16, 23,42]"
   ]
  },
  {
   "cell_type": "code",
   "execution_count": 3,
   "id": "a33baa5d-7cdb-4192-8af2-aa73227447c9",
   "metadata": {},
   "outputs": [],
   "source": [
    "num=pd.Series(df)"
   ]
  },
  {
   "cell_type": "code",
   "execution_count": 4,
   "id": "44e5ce9a-6353-4776-82d4-a16d188f568f",
   "metadata": {},
   "outputs": [
    {
     "data": {
      "text/plain": [
       "pandas.core.series.Series"
      ]
     },
     "execution_count": 4,
     "metadata": {},
     "output_type": "execute_result"
    }
   ],
   "source": [
    "type(num)"
   ]
  },
  {
   "cell_type": "code",
   "execution_count": 5,
   "id": "74fd68fe-baef-45af-a78f-b24cad027b3e",
   "metadata": {},
   "outputs": [
    {
     "name": "stdout",
     "output_type": "stream",
     "text": [
      "4\n",
      "8\n",
      "15\n",
      "16\n",
      "23\n",
      "42\n"
     ]
    }
   ],
   "source": [
    "for i in num:\n",
    "    print(i)"
   ]
  },
  {
   "cell_type": "markdown",
   "id": "a43253b9-8168-4678-898e-42cdad8d669e",
   "metadata": {},
   "source": [
    "Q2"
   ]
  },
  {
   "cell_type": "code",
   "execution_count": 6,
   "id": "522202fd-19e7-40b4-bbbe-46a8df806156",
   "metadata": {},
   "outputs": [],
   "source": [
    "df1=[4, 8, 15, 16, 23,42,12,53,32,87]"
   ]
  },
  {
   "cell_type": "code",
   "execution_count": 7,
   "id": "732b42e8-f057-47fd-b756-288617a14418",
   "metadata": {},
   "outputs": [
    {
     "data": {
      "text/plain": [
       "list"
      ]
     },
     "execution_count": 7,
     "metadata": {},
     "output_type": "execute_result"
    }
   ],
   "source": [
    "type(df1)"
   ]
  },
  {
   "cell_type": "code",
   "execution_count": 8,
   "id": "c6767094-3c93-419d-8af9-0f659cbd9ceb",
   "metadata": {},
   "outputs": [],
   "source": [
    "num1=pd.Series(df1)"
   ]
  },
  {
   "cell_type": "code",
   "execution_count": 9,
   "id": "2a3af3a2-1e6e-4b2a-82e3-20f58a345d6a",
   "metadata": {},
   "outputs": [
    {
     "data": {
      "text/plain": [
       "pandas.core.series.Series"
      ]
     },
     "execution_count": 9,
     "metadata": {},
     "output_type": "execute_result"
    }
   ],
   "source": [
    "type(num1)"
   ]
  },
  {
   "cell_type": "code",
   "execution_count": 10,
   "id": "dac793d1-a5ea-4995-a72b-15051c0cd2bd",
   "metadata": {},
   "outputs": [
    {
     "name": "stdout",
     "output_type": "stream",
     "text": [
      "4\n",
      "8\n",
      "15\n",
      "16\n",
      "23\n",
      "42\n",
      "12\n",
      "53\n",
      "32\n",
      "87\n"
     ]
    }
   ],
   "source": [
    "for i in num1:\n",
    "    print(i)"
   ]
  },
  {
   "cell_type": "markdown",
   "id": "92f98b95-a2e4-4e8c-b8af-600c5b91d726",
   "metadata": {},
   "source": [
    "Q3"
   ]
  },
  {
   "cell_type": "code",
   "execution_count": 12,
   "id": "0c32a259-e8c2-479a-b3e9-c323d5130560",
   "metadata": {},
   "outputs": [
    {
     "name": "stdout",
     "output_type": "stream",
     "text": [
      "     Name  Age  Gender\n",
      "0   Alice   25  Female\n",
      "1     Bob   30    Male\n",
      "2  claire   27  Female\n"
     ]
    }
   ],
   "source": [
    "data=[['Alice',25,'Female'],['Bob',30,'Male'],['claire',27,'Female']]\n",
    "df2=pd.DataFrame(data,columns=['Name','Age','Gender'])\n",
    "print(df2)"
   ]
  },
  {
   "cell_type": "markdown",
   "id": "9b075ddc-6bca-45aa-87cc-55f2a347e453",
   "metadata": {},
   "source": [
    "Q4"
   ]
  },
  {
   "cell_type": "markdown",
   "id": "95d5ee57-e624-434c-94a1-261a598f4524",
   "metadata": {},
   "source": [
    "Dataframe is two dimensional labelled data structure where each column can contain different data types Such as numeric,string,int\n",
    "Serires is a one dimensional labelled array that contain data of any type,include numeric,string,int"
   ]
  },
  {
   "cell_type": "markdown",
   "id": "342b76e7-7580-4aba-9bfb-ef25e2dc19ef",
   "metadata": {},
   "source": [
    "Example:"
   ]
  },
  {
   "cell_type": "code",
   "execution_count": 13,
   "id": "1e945989-ca16-4a49-943a-1a6545b6abd0",
   "metadata": {},
   "outputs": [],
   "source": [
    "data_1={'Name':['Saurabh','Shakti','Shivanshu'],'Roll_no':[5,8,18],'Section':['C','C','C']}\n",
    "df4=pd.DataFrame(data_1)"
   ]
  },
  {
   "cell_type": "markdown",
   "id": "40110a74-0ef8-4f37-8f95-6b0bf36049bf",
   "metadata": {},
   "source": [
    "df4"
   ]
  },
  {
   "cell_type": "code",
   "execution_count": 15,
   "id": "d04b2d46-450c-49e3-afe8-ed0f2f140e80",
   "metadata": {},
   "outputs": [
    {
     "name": "stdout",
     "output_type": "stream",
     "text": [
      "0    10\n",
      "1    20\n",
      "2    30\n",
      "3    40\n",
      "4    50\n",
      "dtype: int64\n"
     ]
    }
   ],
   "source": [
    "num1= pd.Series([10, 20, 30, 40, 50])\n",
    "print(num1)"
   ]
  },
  {
   "cell_type": "markdown",
   "id": "38bcdc50-b6d1-4ec0-be05-5aadfce6e550",
   "metadata": {},
   "source": [
    "Q5"
   ]
  },
  {
   "cell_type": "raw",
   "id": "44c57e6d-c739-4c42-bff4-40a8784a258f",
   "metadata": {},
   "source": [
    "Pandas offers a rich set of functions to manipulate data in a DataFrame. Here are some common functions that are frequently used:"
   ]
  },
  {
   "cell_type": "markdown",
   "id": "8c349dfd-d391-4f21-9754-97d7ade4d847",
   "metadata": {},
   "source": [
    "head(n) - returns the first n rows of the DataFrame."
   ]
  },
  {
   "cell_type": "code",
   "execution_count": 20,
   "id": "1066e7ae-dc15-45e2-8ef9-741818cf71aa",
   "metadata": {},
   "outputs": [
    {
     "name": "stdout",
     "output_type": "stream",
     "text": [
      "   Name  Age  Salary\n",
      "0  John   25   50000\n",
      "1  Emma   30   60000\n"
     ]
    }
   ],
   "source": [
    "\n",
    "data5= {'Name': ['John', 'Emma', 'Tom', 'Kelly', 'Alex'],\n",
    "        'Age': [25, 30, 35, 40, 45],\n",
    "        'Salary': [50000, 60000, 70000, 80000, 90000]}\n",
    "df7= pd.DataFrame(data5)\n",
    "\n",
    "print(df7.head(2)) # returns first 2 rows of the DataFrame"
   ]
  },
  {
   "cell_type": "markdown",
   "id": "8a28477f-8a65-46ec-a0b3-cc2271d3ff3f",
   "metadata": {},
   "source": [
    "tail(n) - returns the last n rows of the DataFrame."
   ]
  },
  {
   "cell_type": "code",
   "execution_count": 21,
   "id": "d204b72b-bdc0-4281-9120-330b6701badd",
   "metadata": {},
   "outputs": [
    {
     "name": "stdout",
     "output_type": "stream",
     "text": [
      "    Name  Age  Salary\n",
      "3  Kelly   40   80000\n",
      "4   Alex   45   90000\n"
     ]
    }
   ],
   "source": [
    "print(df7.tail(2))"
   ]
  },
  {
   "cell_type": "code",
   "execution_count": null,
   "id": "d14ea347-278f-41ef-8b3b-d558a48330b8",
   "metadata": {},
   "outputs": [],
   "source": []
  }
 ],
 "metadata": {
  "kernelspec": {
   "display_name": "Python 3 (ipykernel)",
   "language": "python",
   "name": "python3"
  },
  "language_info": {
   "codemirror_mode": {
    "name": "ipython",
    "version": 3
   },
   "file_extension": ".py",
   "mimetype": "text/x-python",
   "name": "python",
   "nbconvert_exporter": "python",
   "pygments_lexer": "ipython3",
   "version": "3.10.8"
  }
 },
 "nbformat": 4,
 "nbformat_minor": 5
}
